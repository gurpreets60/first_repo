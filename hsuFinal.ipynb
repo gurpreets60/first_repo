{
 "cells": [
  {
   "cell_type": "code",
   "execution_count": 51,
   "id": "e166e839",
   "metadata": {},
   "outputs": [],
   "source": [
    "import pandas as pd\n",
    "import numpy as np\n",
    "from itertools import combinations\n",
    "import os\n",
    "import matplotlib.pyplot as plt"
   ]
  },
  {
   "cell_type": "code",
   "execution_count": 4,
   "id": "7a6b5431",
   "metadata": {},
   "outputs": [],
   "source": [
    "company_col = 'Index Constituents'\n",
    "sharpe_col = 'Sharpe Ratio'\n",
    "indicator_cols = [\n",
    "    'Price/Forward EPS',\n",
    "    'PEG Ratio',\n",
    "    'Trailing TEV/Total Revenue',\n",
    "    'Trailing Price/EPS',\n",
    "    'Short Interest/Shares Outstanding',\n",
    "    'Three Year R-Squared',\n",
    "    'Estimated Annual EPS Growth - 1 YR %',\n",
    "    'Transcript Score ' \n",
    "]\n",
    "\n",
    "indicator_direction = {\n",
    "    'Price/Forward EPS': False,\n",
    "    'PEG Ratio': False,\n",
    "    'Trailing TEV/Total Revenue': False,\n",
    "    'Trailing Price/EPS': False,\n",
    "    'Short Interest/Shares Outstanding': False,\n",
    "    'Three Year R-Squared': True,     # false if seeking alpha, but keep in mind mroe risk\n",
    "    'Estimated Annual EPS Growth - 1 YR %': True,\n",
    "    'Transcript Score ': True\n",
    "}"
   ]
  },
  {
   "cell_type": "markdown",
   "id": "5c23ca25",
   "metadata": {},
   "source": [
    "What we have so far:\n",
    "We have the ranks for each of the indicators.\n",
    "We also have the scores for each of the indicators.\n",
    "We also have the equal weighted (average) combinations for each of the indicators.\n",
    "\n",
    "# Goal now\n",
    "Take Rank Combos and Score Combos based on performance strengths, and based on congintive diversity\n",
    "For diversity strength weighting:\n",
    "1. Find the RSC functions of each indicator. So we will have 8 RSC functions.\n",
    "2. Find the cognitive diversity. \n",
    "3. Plug in to find the diversity strength of an indicator into the rank/score formulas.\n",
    "4. Find the combinations\n",
    "5. When taking combinations of k>1, take a look at the combination formulas, take the sum of ... (the weight of one model * the score/rank of the same model) and the weight of the other models * the score of the other models. I.e. if k=2, then take the weight*the score/rank of one model + the weight * the score/rank of the other model. That is your combos.\n",
    "\n",
    "For weighted combinations:\n",
    "1. Less steps because we mainly look at just the sharpe ratio, and that is our weight for each indicator. To calculate this sharpe ratio/performance, we need to take the average of the top 10% of indicators based on score/rank individually, then we combine. So the top 10% of scores of an indicator will be the weight for that indicator.\n",
    "2. We plug in this weight into our score/rank formulas.\n"
   ]
  },
  {
   "cell_type": "code",
   "execution_count": 5,
   "id": "55a59a46",
   "metadata": {},
   "outputs": [
    {
     "name": "stdout",
     "output_type": "stream",
     "text": [
      "[1.0, 0.958142806894126, 0.3385508265916285, 0.2826239887442842, 0.281568765388674, 0.2590573338023215, 0.2562434048540274, 0.2541329581428069, 0.2449876890608512, 0.236545902215969, 0.2230038691523039, 0.2224762574744987, 0.2017235314808301, 0.1931058740766795, 0.1855434400281392, 0.1843123461132606, 0.1832571227576503, 0.1823777699613084, 0.1804431938093563, 0.1785086176574041, 0.1774533943017938, 0.1767499120647203, 0.1734083714386211, 0.1732325008793528, 0.167780513542033, 0.167780513542033, 0.1669011607456911, 0.166373549067886, 0.1651424551530073, 0.1647907140344706, 0.1644389729159338, 0.1644389729159338, 0.1633837495603236, 0.1619767850861765, 0.1618009145269082, 0.1616250439676398, 0.1614491734083714, 0.161273302849103, 0.1602180794934927, 0.159866338374956, 0.1589869855786141, 0.157052409426662, 0.1568765388673935, 0.1563489271895884, 0.1559971860710517, 0.1556454449525149, 0.1554695743932465, 0.1552937038339782, 0.1549419627154414, 0.1545902215969047, 0.1540626099190995, 0.1531832571227576, 0.1530073865634892, 0.1526556454449525, 0.1524797748856841, 0.1517762926486106, 0.1516004220893422, 0.1510728104115371, 0.1510728104115371, 0.1508969398522687, 0.1508969398522687, 0.1503693281744635, 0.1500175870559268, 0.1498417164966584, 0.1494899753781217, 0.1494899753781217, 0.1493141048188533, 0.1491382342595849, 0.1491382342595849, 0.1491382342595849, 0.1491382342595849, 0.1489623637003165, 0.1487864931410482, 0.1487864931410482, 0.1487864931410482, 0.1486106225817798, 0.1484347520225114, 0.148258881463243, 0.1480830109039746, 0.1472036581076327, 0.1470277875483644, 0.146851916989096, 0.146851916989096, 0.1459725641927541, 0.1459725641927541, 0.1457966936334857, 0.1456208230742173, 0.1452690819556806, 0.1452690819556806, 0.1450932113964122, 0.1450932113964122, 0.1449173408371438, 0.1445655997186071, 0.1443897291593387, 0.1442138586000703, 0.1438621174815335, 0.1438621174815335, 0.1436862469222652, 0.1435103763629968, 0.1435103763629968, 0.1435103763629968, 0.1435103763629968, 0.1433345058037284, 0.1433345058037284, 0.14315863524446, 0.1428068941259233, 0.1428068941259233, 0.1428068941259233, 0.1428068941259233, 0.1426310235666549, 0.1424551530073865, 0.1421034118888497, 0.1421034118888497, 0.1419275413295814, 0.1419275413295814, 0.1419275413295814, 0.141751670770313, 0.141751670770313, 0.1415758002110446, 0.1415758002110446, 0.1415758002110446, 0.1415758002110446, 0.1415758002110446, 0.1412240590925079, 0.1408723179739711, 0.1408723179739711, 0.1408723179739711, 0.1408723179739711, 0.1408723179739711, 0.1408723179739711, 0.140344706296166, 0.140344706296166, 0.1401688357368976, 0.1401688357368976, 0.1401688357368976, 0.1401688357368976, 0.1399929651776292, 0.1399929651776292, 0.1398170946183609, 0.1398170946183609, 0.1396412240590925, 0.1396412240590925, 0.1394653534998241, 0.1392894829405557, 0.1391136123812874, 0.1391136123812874, 0.1391136123812874, 0.1387618712627506, 0.1385860007034822, 0.1385860007034822, 0.1385860007034822, 0.1384101301442138, 0.1382342595849454, 0.1382342595849454, 0.1382342595849454, 0.1380583890256771, 0.1380583890256771, 0.1378825184664087, 0.1378825184664087, 0.1378825184664087, 0.1377066479071403, 0.1377066479071403, 0.1375307773478719, 0.1375307773478719, 0.1375307773478719, 0.1373549067886036, 0.1370031656700668, 0.1370031656700668, 0.1368272951107984, 0.1368272951107984, 0.1368272951107984, 0.1368272951107984, 0.1368272951107984, 0.13665142455153, 0.1361238128737249, 0.1361238128737249, 0.1359479423144565, 0.1359479423144565, 0.1359479423144565, 0.1359479423144565, 0.1357720717551881, 0.1355962011959198, 0.1355962011959198, 0.1354203306366514, 0.1354203306366514, 0.1354203306366514, 0.1354203306366514, 0.135244460077383, 0.1350685895181146, 0.1348927189588462, 0.1348927189588462, 0.1345409778403095, 0.1343651072810411, 0.1343651072810411, 0.1341892367217727, 0.1341892367217727, 0.1340133661625044, 0.133837495603236, 0.133837495603236, 0.133837495603236, 0.1336616250439676, 0.1336616250439676, 0.1334857544846992, 0.1334857544846992, 0.1333098839254308, 0.1333098839254308, 0.1331340133661625, 0.1324305311290889, 0.1324305311290889, 0.1322546605698206, 0.1322546605698206, 0.1322546605698206, 0.1322546605698206, 0.1322546605698206, 0.1320787900105522, 0.1320787900105522, 0.1319029194512838, 0.1319029194512838, 0.1317270488920154, 0.1317270488920154, 0.1317270488920154, 0.1315511783327471, 0.1311994372142103, 0.1311994372142103, 0.1308476960956736, 0.1306718255364052, 0.1301442138586, 0.1301442138586, 0.1296166021807949, 0.1292648610622581, 0.1290889905029898, 0.1289131199437214, 0.128737249384453, 0.1285613788251846, 0.1283855082659162, 0.1283855082659162, 0.1283855082659162, 0.1282096377066479, 0.1278578965881111, 0.1269785437917692, 0.1264509321139641, 0.125923320436159, 0.125923320436159, 0.1257474498768906, 0.1257474498768906, 0.1246922265212803, 0.1243404854027435, 0.1234611326064017, 0.1232852620471333, 0.1231093914878649, 0.1231093914878649, 0.1224059092507914, 0.122230038691523, 0.122230038691523, 0.122230038691523, 0.1213506858951811, 0.1211748153359127, 0.1209989447766443, 0.1209989447766443, 0.1209989447766443, 0.1209989447766443, 0.1206472036581076, 0.1202954625395708, 0.1202954625395708, 0.1195919803024973, 0.1195919803024973, 0.1195919803024973, 0.1180091452690819, 0.1178332747098135, 0.1178332747098135, 0.1173056630320084, 0.11712979247274, 0.1167780513542033, 0.1164263102356665, 0.1151952163207879, 0.1148434752022511, 0.1141399929651776, 0.1111501934576151, 0.1102708406612733, 0.1099190995427365, 0.1097432289834681, 0.1090397467463946, 0.1083362645093211, 0.1058740766795638, 0.1053464650017587, 0.1046429827646851, 0.1044671122054168, 0.1044671122054168, 0.10411537108688, 0.1037636299683432, 0.1037636299683432, 0.1028842771720014, 0.1023566654941962, 0.1020049243756595, 0.1016531832571227, 0.101301442138586, 0.1007738304607808, 0.1002462187829757, 0.0997186071051706, 0.0984875131902919, 0.0963770664790714, 0.0960253253605346, 0.0958494548012662, 0.0956735842419979, 0.094794231445656, 0.0921561730566303, 0.0918044319380935, 0.0907492085824833, 0.0881111501934576, 0.0881111501934576, 0.0812521983819908, 0.0777347871966232, 0.0759760816039395, 0.0747449876890608, 0.0682377769961308, 0.0673584241997889, 0.0604994723883222, 0.053464650017587, 0.044143510376363, 0.0337671473795286, 0.0334154062609919, 0.0]\n"
     ]
    }
   ],
   "source": [
    "def grabdata(name):\n",
    "    rankpth = os.path.join(\"Rank_Combos\",\"1\",name)\n",
    "    scorepth=os.path.join(\"Score_Combos\",\"1\",name)\n",
    "    dfr = pd.read_csv(rankpth)\n",
    "    dfs=pd.read_csv(scorepth)\n",
    "    rank = dfr[\"Rank\"].to_list()\n",
    "    score = dfs['Score'].to_list()\n",
    "    return score,rank\n",
    "\n",
    "#test\n",
    "score,rank = grabdata('Estimated_Annual_EPS_Growth_-_1_YR_%.csv') #automate this for every indicator\n",
    "print(score)"
   ]
  },
  {
   "cell_type": "code",
   "execution_count": 6,
   "id": "be4307b5",
   "metadata": {},
   "outputs": [],
   "source": [
    "#Let's store all of the scores in an list of lists\n",
    "pth = os.path.join(\"Score_Combos\",\"1\")\n",
    "files = os.listdir(pth)\n",
    "scores=[]\n",
    "ranks=[]\n",
    "for i in range(8):\n",
    "    score,rank=grabdata(files[i])\n",
    "    scores.append(score)\n",
    "    ranks.append(rank)\n",
    "\n",
    "#test\n",
    "#print(scores[0])\n",
    "#had a small problem, understand that python lists needs to be allocated, I cannot just access a point that hasn't been allocated before."
   ]
  },
  {
   "cell_type": "code",
   "execution_count": 8,
   "id": "01743214",
   "metadata": {},
   "outputs": [
    {
     "name": "stdout",
     "output_type": "stream",
     "text": [
      "{'Three_Year_R-Squared.csv': 0, 'PEG_Ratio.csv': 1, 'Short_Interest_Shares_Outstanding.csv': 2, 'Price_Forward_EPS.csv': 3, 'Estimated_Annual_EPS_Growth_-_1_YR_%.csv': 4, 'Trailing_Price_EPS.csv': 5, 'Transcript_Score_.csv': 6, 'Trailing_TEV_Total_Revenue.csv': 7}\n"
     ]
    }
   ],
   "source": [
    "#It would be easier to give each indicator a sort of key, like 1,2,3,...,8\n",
    "indicators = {}\n",
    "for i in range(8):\n",
    "    indicators[files[i]]=i\n",
    "\n",
    "print(indicators)"
   ]
  },
  {
   "cell_type": "markdown",
   "id": "e9672bbf",
   "metadata": {},
   "source": [
    "We can say that the RSC is pretty much just our scores. \n",
    "\n",
    "However, we will need the ranks..."
   ]
  },
  {
   "cell_type": "code",
   "execution_count": null,
   "id": "cc6c101b",
   "metadata": {},
   "outputs": [],
   "source": [
    "n=322 #should grab this data in a different way incase our data changes.\n",
    "t=8"
   ]
  },
  {
   "cell_type": "code",
   "execution_count": 10,
   "id": "56d366ee",
   "metadata": {},
   "outputs": [
    {
     "name": "stdout",
     "output_type": "stream",
     "text": [
      "1.320238406820596\n"
     ]
    }
   ],
   "source": [
    "#takes two rsc functions and returns the cognitive diversity of those two functions.\n",
    "def calcDiv(rsc1,rsc2):\n",
    "    sum = 0\n",
    "    for i in range(n):\n",
    "        sum+=np.square(rsc1[i]+rsc2[i])\n",
    "    sum/=n\n",
    "    return np.sqrt(sum)\n",
    "\n",
    "#test\n",
    "score1,rank1=grabdata('Three_Year_R-Squared.csv')\n",
    "cd = calcDiv(score,score1)\n",
    "print(cd) #this is the cognitive diversity between financial indicators: Estimated annual eps growth and 3 year R sqaured"
   ]
  },
  {
   "cell_type": "markdown",
   "id": "6d66aebe",
   "metadata": {},
   "source": [
    "Nigga says Nigga\n",
    "Weight for diversity str is complete."
   ]
  },
  {
   "cell_type": "code",
   "execution_count": 11,
   "id": "03fee38e",
   "metadata": {},
   "outputs": [
    {
     "name": "stdout",
     "output_type": "stream",
     "text": [
      "0.9254198062505682\n"
     ]
    }
   ],
   "source": [
    "#calculates the diversity strength weight of the indicator.\n",
    "def calcDivStr(indicate):\n",
    "    sum = 0\n",
    "    for i in range(8):\n",
    "        if(i==indicate):\n",
    "            continue\n",
    "        sum+=calcDiv(scores[indicate],scores[i])\n",
    "    sum/=(t-1)\n",
    "    return sum\n",
    "\n",
    "#test\n",
    "print(calcDivStr(indicators['Estimated_Annual_EPS_Growth_-_1_YR_%.csv']))"
   ]
  },
  {
   "cell_type": "code",
   "execution_count": 13,
   "id": "5558d60a",
   "metadata": {},
   "outputs": [],
   "source": [
    "divstrs = [] #this array divstr will be our weights for ds\n",
    "for i in range(8):\n",
    "    divstrs.append(calcDivStr(i))\n",
    "\n",
    "totalDS=np.array(divstrs).sum()\n",
    "#I store all the diversity strengths in an array\n",
    "#I also grab the total diversity used to calculate the weights"
   ]
  },
  {
   "cell_type": "code",
   "execution_count": 14,
   "id": "6432aea8",
   "metadata": {},
   "outputs": [
    {
     "name": "stdout",
     "output_type": "stream",
     "text": [
      "11.127085221352184\n"
     ]
    }
   ],
   "source": [
    "print(totalDS)"
   ]
  },
  {
   "cell_type": "markdown",
   "id": "97530616",
   "metadata": {},
   "source": [
    "Calculate the performance strength now. (Doing this on 9-16-25)\n",
    "\n",
    "We defined performance strength to be what? The performance of each indicator (This is taking the top 15% of stocks with the highest scores and deciding how good of a metric this shit is.)\n"
   ]
  },
  {
   "cell_type": "code",
   "execution_count": 25,
   "id": "3cbf7176",
   "metadata": {},
   "outputs": [],
   "source": [
    "#take the top 15% stocks based on their sharpe ratio. And then take the average of their score, that will be weight for that indicator\n",
    "def calcPerf(indicate):\n",
    "    \n",
    "    indicator_name = files[indicate]\n",
    "    filepath = os.path.join(\"Score_Combos\", \"1\", indicator_name)\n",
    "\n",
    "    df = pd.read_csv(filepath)\n",
    "\n",
    "    '''\n",
    "    \n",
    "    # Ensure the DataFrame has 'Sharpe Ratio' and 'Score' columns\n",
    "    if sharpe_col not in df.columns or 'Score' not in df.columns:\n",
    "        print(f\"Error: '{sharpe_col}' or 'Score' column not found in {indicator_name}\")\n",
    "        return None\n",
    "    '''\n",
    "    # Sort by Sharpe Ratio in descending order and take the top 15%\n",
    "    top_15_percent = df.sort_values(by=sharpe_col, ascending=False).head(int(len(df) * 0.15))\n",
    "\n",
    "    # Calculate the average score for the top 15%\n",
    "    average_score = top_15_percent['Score'].mean()\n",
    "\n",
    "    return average_score"
   ]
  },
  {
   "cell_type": "code",
   "execution_count": 31,
   "id": "75dc5fbe",
   "metadata": {},
   "outputs": [
    {
     "name": "stdout",
     "output_type": "stream",
     "text": [
      "0.5251053370786517\n"
     ]
    }
   ],
   "source": [
    "print(calcPerf(indicators['Transcript_Score_.csv']))"
   ]
  },
  {
   "cell_type": "code",
   "execution_count": 33,
   "id": "49accc7d",
   "metadata": {},
   "outputs": [
    {
     "name": "stdout",
     "output_type": "stream",
     "text": [
      "[np.float64(0.4538194444444444), np.float64(0.9501429199648198), np.float64(0.9040570175438596), np.float64(0.7986338053740014), np.float64(0.1504609274240825), np.float64(0.8783069750275073), np.float64(0.5251053370786517), np.float64(0.7896999378109454)]\n",
      "{'Three_Year_R-Squared.csv': 0, 'PEG_Ratio.csv': 1, 'Short_Interest_Shares_Outstanding.csv': 2, 'Price_Forward_EPS.csv': 3, 'Estimated_Annual_EPS_Growth_-_1_YR_%.csv': 4, 'Trailing_Price_EPS.csv': 5, 'Transcript_Score_.csv': 6, 'Trailing_TEV_Total_Revenue.csv': 7}\n"
     ]
    }
   ],
   "source": [
    "perfstrs = [] # This array perfstrs will be our weights for performance strength\n",
    "for i in range(8):\n",
    "    perfstrs.append(calcPerf(i))\n",
    "\n",
    "#totalPS = np.array(perfstrs).sum()\n",
    "\n",
    "print(perfstrs)\n",
    "\n",
    "print(indicators)"
   ]
  },
  {
   "cell_type": "code",
   "execution_count": 11,
   "id": "5aaed5cf",
   "metadata": {},
   "outputs": [
    {
     "data": {
      "text/plain": [
       "'def weightdiv(divstr):\\n\\n    return np.sum(divstr)/totalDS\\n\\n#test, weight for estimated annual eps growth 1yr\\nprint(weightdiv(divstrs[0]))\\n\\n#if weight is just divstr, which it should be, then \\nprint(divstrs)\\n'"
      ]
     },
     "execution_count": 11,
     "metadata": {},
     "output_type": "execute_result"
    }
   ],
   "source": [
    "#function takes in a list of diversity strengths belonging to the indicators chosen.\n",
    "'''def weightdiv(divstr):\n",
    "    \n",
    "    return np.sum(divstr)/totalDS\n",
    "\n",
    "#test, weight for estimated annual eps growth 1yr\n",
    "print(weightdiv(divstrs[0]))\n",
    "\n",
    "#if weight is just divstr, which it should be, then \n",
    "print(divstrs)\n",
    "'''"
   ]
  },
  {
   "cell_type": "markdown",
   "id": "6e3ac2c5",
   "metadata": {},
   "source": [
    "Keep in mind, this formula will change if when we go k's of 2,3, and onward. We will have to add multiple divstrs to our formula.\n",
    "-Update: Expanded weightdiv to take in a list.\n",
    "\n"
   ]
  },
  {
   "cell_type": "markdown",
   "id": "e933a0ee",
   "metadata": {},
   "source": [
    "Weight for performance strength.\n",
    "\n",
    "# Jabed: GOOD\n",
    "\n",
    "Let's calculate the performance strength like this:\n",
    "We take the top 15% of rsc for the sharpe ratio"
   ]
  },
  {
   "cell_type": "code",
   "execution_count": 12,
   "id": "f414d7e5",
   "metadata": {},
   "outputs": [],
   "source": [
    "#so based on the top 15% of stocks based on their score, we take the average of their sharpe ratio to determine that indicator's performance.\n",
    "# We need to take the top 15%\n"
   ]
  },
  {
   "cell_type": "markdown",
   "id": "2a747b7e",
   "metadata": {},
   "source": [
    "Score Combination\n",
    "For 1 stock d, lets say d_i\n",
    "S_sc(d_i) = (sum all the score systems: weight of scoring system * the score that stock recieved in that scoring system  )/sum of all the weights in the scoring system."
   ]
  },
  {
   "cell_type": "code",
   "execution_count": 15,
   "id": "3b9b9953",
   "metadata": {},
   "outputs": [],
   "source": [
    "#takes in a list of weights, and list of scores\n",
    "#the weights list should be composed of all the weights for each indicator\n",
    "#the score list should be composed of all the scores of that 1 stock for each indicator\n",
    "def CalcSC(w,s):\n",
    "    w=np.array(w)\n",
    "    #s=np.array(s)\n",
    "    #print(s)\n",
    "    sc=w.dot(s)\n",
    "    sc/=w.sum()\n",
    "    return sc\n",
    "\n"
   ]
  },
  {
   "cell_type": "markdown",
   "id": "cda60bf0",
   "metadata": {},
   "source": [
    "Rank Combination"
   ]
  },
  {
   "cell_type": "code",
   "execution_count": 16,
   "id": "4b1f7d4a",
   "metadata": {},
   "outputs": [],
   "source": [
    "#Rank combination function.\n",
    "#fundamentally similar to SC, wiht minute differences.\n",
    "def CalcRC(w,r):\n",
    "    w=np.array(w)\n",
    "    #print(w)\n",
    "    w=1/w\n",
    "    #print(w)\n",
    "    rc = w.dot(r)\n",
    "    rc/=w.sum()\n",
    "    return rc\n",
    "    "
   ]
  },
  {
   "cell_type": "code",
   "execution_count": 17,
   "id": "042e0415",
   "metadata": {},
   "outputs": [],
   "source": [
    "#to test, I need to construct the list of scores/ranks first,\n",
    "#for each stock, (332 stocks) we need to make a list of size 8 for each of their score values.\n",
    "\n",
    "#this function takes a path to either rank or score combos.\n",
    "def dataMatrix(path):\n",
    "    theFiles = os.listdir(path)\n",
    "    dfs=[] # a list of dataframes of company+score\n",
    "    for f in files: #loop through each file and add to overall dfs\n",
    "        p = os.path.join(path,f)\n",
    "        d = pd.read_csv(p)\n",
    "        if 'Score' in d.columns:\n",
    "            d = d[['Company', 'Score']]\n",
    "            d.rename(columns={'Score':f},inplace=True) #rename this column so not all columns are named score\n",
    "            dfs.append(d)\n",
    "        elif 'Rank' in d.columns:\n",
    "            d=d[['Company', 'Rank']]\n",
    "            d.rename(columns={'Rank':f},inplace=True) #rename this column so not all columns are named score\n",
    "            dfs.append(d)\n",
    "        else:\n",
    "            print('Dead')\n",
    "            continue\n",
    "        #print(f)\n",
    "    \n",
    "    merging = dfs[0] \n",
    "    for df in dfs[1:]:\n",
    "        merging = pd.merge(merging, df, on='Company', how='inner')\n",
    "    print(type(merging))\n",
    "    return merging\n",
    "\n",
    "#print(pth)\n",
    "#print(dataMatrix(pth))"
   ]
  },
  {
   "cell_type": "markdown",
   "id": "f64acc54",
   "metadata": {},
   "source": [
    "OK lets get data of our scores and ranks"
   ]
  },
  {
   "cell_type": "code",
   "execution_count": 18,
   "id": "b7dd5bcb",
   "metadata": {},
   "outputs": [
    {
     "name": "stdout",
     "output_type": "stream",
     "text": [
      "<class 'pandas.core.frame.DataFrame'>\n",
      "<class 'pandas.core.frame.DataFrame'>\n"
     ]
    }
   ],
   "source": [
    "pth = os.path.join(\"Score_Combos\",\"1\")\n",
    "scoreMatrix = dataMatrix(pth)\n",
    "pth = os.path.join(\"Rank_Combos\",\"1\")\n",
    "\n",
    "rankMatrix = dataMatrix(pth)\n",
    "\n",
    "#these are our dataframes for the companies, and the scores each company got for each indicator.\n",
    "#each row of the dataframe is 1 company. There are 8 columns, for the indicators.\n",
    "#We need to loop through each of the rows to calculate the score/rank combinations."
   ]
  },
  {
   "cell_type": "code",
   "execution_count": 19,
   "id": "d0c6de9b",
   "metadata": {},
   "outputs": [
    {
     "name": "stdout",
     "output_type": "stream",
     "text": [
      "['NasdaqGS:AAPL', 'NasdaqGS:TROW', 'NasdaqGS:MSFT', 'NYSE:MCO', 'NYSE:MA', 'NYSE:APH', 'NYSE:AMP', 'NYSE:PH', 'NasdaqGS:AMZN', 'NYSE:FTV', 'NYSE:DOV', 'NasdaqGS:KLAC', 'NasdaqGS:LRCX', 'NYSE:IVZ', 'NYSE:IR', 'NasdaqGS:QCOM', 'NasdaqGS:TXN', 'NYSE:SPGI', 'NasdaqGS:TER', 'NYSE:WAB', 'NasdaqGS:CDNS', 'NasdaqGS:TRMB', 'NYSE:V', 'NYSE:ITW', 'NasdaqGS:ROP', 'NasdaqGS:PTC', 'NYSE:EMR', 'NYSE:HLT', 'NasdaqGS:AMD', 'NasdaqGS:MPWR', 'NYSE:PNR', 'NYSE:ETN', 'NYSE:XYL', 'NYSE:CPAY', 'NasdaqGS:FFIV', 'NasdaqGS:MAR', 'NYSE:PPG', 'NasdaqGS:ISRG', 'NYSE:PRU', 'NYSE:AME', 'NYSE:TT', 'NYSE:TXT', 'NYSE:GLW', 'NasdaqGS:ON', 'NYSE:HWM', 'NYSE:TDG', 'NYSE:EMN', 'NYSE:CARR', 'NasdaqGS:CDW', 'NYSE:NOW', 'NYSE:BEN', 'NYSE:DD', 'NYSE:IQV', 'NasdaqGS:ADP', 'NYSE:JCI', 'NYSE:MSCI', 'NYSE:VMC', 'NasdaqGS:HON', 'NasdaqGS:LIN', 'NYSE:IEX', 'NYSE:ROK', 'NasdaqGS:BKNG', 'NYSE:EFX', 'NYSE:MGM', 'NYSE:TDY', 'NasdaqGS:CTSH', 'NYSE:ECL', 'NasdaqGS:META', 'NYSE:MAS', 'NYSE:LII', 'NasdaqGS:NDAQ', 'NYSE:PLD', 'NYSE:MET', 'NYSE:DAL', 'NYSE:DIS', 'NasdaqGS:NWSA', 'NYSE:DOW', 'NYSE:AVY', 'NYSE:CAT', 'NasdaqGS:STX', 'NYSE:CMI', 'NasdaqGS:CSX', 'NasdaqGS:ABNB', 'NYSE:SYK', 'NasdaqGS:PYPL', 'NYSE:ALLE', 'NYSE:APTV', 'NYSE:MSI', 'NasdaqGS:IDXX', 'NYSE:TMO', 'NYSE:TYL', 'NYSE:WY', 'NYSE:HUBB', 'NasdaqGS:FAST', 'NYSE:GPN', 'NYSE:SWK', 'NYSE:MTD', 'NasdaqGS:EQIX', 'NYSE:FRT', 'NYSE:PWR', 'NYSE:FCX', 'NYSE:MMC', 'NYSE:ICE', 'NYSE:LYB', 'NYSE:LYV', 'NYSE:BSX', 'NYSE:SHW', 'NYSE:SNA', 'NYSE:ANET', 'NYSE:J', 'NYSE:DHR', 'NYSE:FICO', 'NYSE:IPG', 'NasdaqGS:REG', 'NasdaqGS:ODFL', 'NasdaqGS:TSLA', 'NYSE:NSC', 'NasdaqGS:NFLX', 'NYSE:EQR', 'NYSE:IRM', 'NYSE:GM', 'NasdaqGS:JBHT', 'NYSE:FI', 'NYSE:AVB', 'NasdaqGS:PCAR', 'NYSE:NUE', 'NasdaqGS:UAL', 'NYSE:F', 'NYSE:CMG', 'NYSE:KMX', 'NYSE:TRGP', 'NasdaqGS:EBAY', 'NasdaqGS:ALGN', 'NYSE:GNRC', 'NYSE:GE', 'NYSE:GWW', 'NasdaqGS:CSGP', 'NYSE:OMC', 'NYSE:PKG', 'NYSE:ESS', 'NasdaqGS:EXPE', 'NYSE:RVTY', 'NYSE:PHM', 'NYSE:DLR', 'NYSE:INVH', 'NYSE:GRMN', 'NYSE:UNP', 'NYSE:ARE', 'NYSE:AOS', 'NYSE:AMCR', 'NasdaqGS:STLD', 'NasdaqGS:TECH', 'NYSE:BLDR', 'NYSE:KMI', 'NasdaqGS:SBUX', 'NYSE:TPR', 'NYSE:CPT', 'NasdaqGS:POOL', 'NYSE:ZTS', 'NYSE:BRO', 'NYSE:UPS', 'NYSE:WMB', 'NYSE:MHK', 'NYSE:MAA', 'NYSE:HIG', 'NYSE:LUV', 'NYSE:GD', 'NasdaqGS:FTNT', 'NYSE:VICI', 'NYSE:UBER', 'NYSE:YUM', 'NYSE:WAT', 'NasdaqGS:CMCSA', 'NasdaqGS:TSCO', 'NYSE:AFL', 'NYSE:MMM', 'NasdaqGS:AKAM', 'NYSE:PAYC', 'NasdaqGS:WYNN', 'NYSE:DOC', 'NasdaqGS:MTCH', 'NYSE:EPAM', 'NasdaqGS:CINF', 'NasdaqGS:BKR', 'NYSE:LH', 'NYSE:EXR', 'NYSE:PEG', 'NYSE:APD', 'NYSE:AON', 'NYSE:AES', 'NYSE:IBM', 'NYSE:DHI', 'NYSE:VST', 'NasdaqGS:HAS', 'NYSE:IP', 'NYSE:RSG', 'NasdaqGS:GEN', 'NYSE:IFF', 'NYSE:CVX', 'NYSE:LVS', 'NYSE:PSA', 'NasdaqGS:FANG', 'NYSE:SRE', 'NYSE:SLB', 'NYSE:ZBH', 'NYSE:SYY', 'NYSE:BDX', 'NYSE:OXY', 'NasdaqGS:CEG', 'NYSE:FIS', 'NYSE:ABT', 'NYSE:UHS', 'NasdaqGS:PODD', 'NYSE:NI', 'NYSE:PSX', 'NYSE:PCG', 'NYSE:HCA', 'NasdaqGS:HSIC', 'NYSE:CTVA', 'NYSE:EIX', 'NYSE:RTX', 'NasdaqGS:AXON', 'NasdaqGS:JKHY', 'NasdaqGS:CHTR', 'NYSE:RMD', 'NYSE:PPL', 'NYSE:EOG', 'NasdaqGS:MNST', 'NYSE:COP', 'NYSE:MPC', 'NYSE:MOS', 'NYSE:CTRA', 'NasdaqGS:DPZ', 'NYSE:ATO', 'NYSE:WM', 'NYSE:EQT', 'NasdaqGS:CHRW', 'NasdaqGS:EA', 'NYSE:EW', 'NYSE:MCD', 'NasdaqGS:TMUS', 'NYSE:CNP', 'NYSE:XOM', 'NasdaqGS:HOLX', 'NYSE:VLO', 'NasdaqGS:ACGL', 'NasdaqGS:ORLY', 'NasdaqGS:SBAC', 'NasdaqGS:BIIB', 'NYSE:CB', 'NasdaqGS:DXCM', 'NasdaqGM:ENPH', 'NYSE:LDOS', 'NasdaqGS:LNT', 'NasdaqGS:REGN', 'NYSE:DTE', 'NYSE:EG', 'NYSE:WST', 'NasdaqGS:EVRG', 'NYSE:NEE', 'NYSE:LHX', 'NasdaqGS:SMCI', 'NYSE:DGX', 'NYSE:KO', 'NYSE:ETR', 'NYSE:PNW', 'NYSE:AEE', 'NYSE:ES', 'NYSE:FE', 'NYSE:HII', 'NYSE:AMT', 'NYSE:AWK', 'NasdaqGS:FSLR', 'NYSE:ADM', 'NYSE:LLY', 'NYSE:CAH', 'NYSE:PFE', 'NasdaqGS:MDLZ', 'NYSE:BG', 'NasdaqGS:PEP', 'NYSE:TAP', 'NYSE:PG', 'NasdaqGS:AMGN', 'NasdaqGS:AEP', 'NasdaqGS:XEL', 'NYSE:CMS', 'NYSE:PGR', 'NYSE:TEL', 'NYSE:WEC', 'NasdaqGS:GILD', 'NasdaqGS:EXC', 'NasdaqGS:NXPI', 'NasdaqGS:KDP', 'NasdaqGS:MKTX', 'NYSE:CVS', 'NYSE:D', 'NYSE:PM', 'NYSE:TSN', 'NYSE:DUK', 'NYSE:CF', 'NYSE:ELV', 'NYSE:KMB', 'NYSE:ABBV', 'NYSE:CL', 'NYSE:CLX', 'NYSE:LMT', 'NasdaqGS:CME', 'NYSE:COR', 'NYSE:UNH', 'NYSE:MO', 'NYSE:CI', 'NYSE:VZ', 'NYSE:CHD', 'NYSE:MRK', 'NYSE:CNC', 'NYSE:HUM', 'NYSE:JNJ', 'NYSE:MCK', 'NYSE:NOC', 'NYSE:BMY', 'NYSE:SW', 'BATS:CBOE']\n",
      "[np.float64(0.7733641842810487), np.float64(0.7556331655296259), np.float64(0.7662112057413754), np.float64(0.7250161329312617), np.float64(0.7096126593672554), np.float64(0.7871299025961255), np.float64(0.8645022929517455), np.float64(0.7924118597259969), np.float64(0.801756688435786), np.float64(0.7929054527708479), np.float64(0.7960756669346845), np.float64(0.7632935979942966), np.float64(0.7931188281497918), np.float64(0.8298943777923623), np.float64(0.7710035588124473), np.float64(0.8233485978108757), np.float64(0.7219409772678277), np.float64(0.7487173982937946), np.float64(0.7596709789379237), np.float64(0.7990061330178263), np.float64(0.7005813428183393), np.float64(0.7813069423478719), np.float64(0.6940637746549913), np.float64(0.7326122063791417), np.float64(0.7375078896088517), np.float64(0.7250678515791522), np.float64(0.7922647641334033), np.float64(0.7180521247182117), np.float64(0.7535421519716308), np.float64(0.7062499307602258), np.float64(0.7706480323457392), np.float64(0.7760078978175943), np.float64(0.772856586707097), np.float64(0.7582280920621622), np.float64(0.7824925294672456), np.float64(0.718765248270056), np.float64(0.8073553780031741), np.float64(0.591178063225665), np.float64(0.8335202579879356), np.float64(0.7806077729771812), np.float64(0.7787970952694122), np.float64(0.7938329458075225), np.float64(0.7730086337376758), np.float64(0.7300491999753045), np.float64(0.7065818978016798), np.float64(0.6741878418728422), np.float64(0.7773654694482646), np.float64(0.8028490257269795), np.float64(0.7922291402741859), np.float64(0.6321540397703256), np.float64(0.7677431755123111), np.float64(0.7740758771610742), np.float64(0.7654256276257002), np.float64(0.7727148152729522), np.float64(0.8129617942394475), np.float64(0.6676426487665799), np.float64(0.7454575291110953), np.float64(0.7655902920215294), np.float64(0.7175528414331209), np.float64(0.7512346074317069), np.float64(0.7524164985476169), np.float64(0.786361391475584), np.float64(0.7054005576559479), np.float64(0.7686062244307726), np.float64(0.7345694635742003), np.float64(0.7968261660425615), np.float64(0.7700366519390052), np.float64(0.7695093710757943), np.float64(0.7734576188321919), np.float64(0.7153016637968669), np.float64(0.7659130878774979), np.float64(0.6269485560995376), np.float64(0.8024332615322922), np.float64(0.7745267752871405), np.float64(0.7948242228910263), np.float64(0.7616871894150729), np.float64(0.7108251240688546), np.float64(0.7773586356090256), np.float64(0.7816431087545445), np.float64(0.8225572966678765), np.float64(0.7934841752681929), np.float64(0.7663250028765864), np.float64(0.729789157188226), np.float64(0.7312911318468708), np.float64(0.8162579355935309), np.float64(0.7482430491002834), np.float64(0.8010693003929655), np.float64(0.725605529291754), np.float64(0.7098262144943521), np.float64(0.784849137420664), np.float64(0.636081274183346), np.float64(0.7230384120455453), np.float64(0.7394956423989333), np.float64(0.694846522780159), np.float64(0.8055517696434474), np.float64(0.7651078701523425), np.float64(0.7212983377390608), np.float64(0.6483728294733558), np.float64(0.6806680193162156), np.float64(0.7296613390375015), np.float64(0.7859808406588918), np.float64(0.7233325456474389), np.float64(0.7115890491560829), np.float64(0.7788220587755355), np.float64(0.6809074355084633), np.float64(0.7087934840194479), np.float64(0.7382365107348158), np.float64(0.7228615884534346), np.float64(0.6923745033481605), np.float64(0.7763298833233883), np.float64(0.7305735234539108), np.float64(0.5290783855160709), np.float64(0.7178863814308633), np.float64(0.6683245354276781), np.float64(0.7230527921967933), np.float64(0.49602618784472596), np.float64(0.7628275906998011), np.float64(0.713397600131471), np.float64(0.5410626792059244), np.float64(0.6652085653135545), np.float64(0.8147781051879607), np.float64(0.7603451248424244), np.float64(0.7697612549527869), np.float64(0.6524684457400499), np.float64(0.7900728649216402), np.float64(0.7890919897527673), np.float64(0.7786234372271753), np.float64(0.7548240286170912), np.float64(0.7218924375411879), np.float64(0.7441891952943562), np.float64(0.7642923832876624), np.float64(0.7672793362858346), np.float64(0.7412902136916589), np.float64(0.7358879670755819), np.float64(0.7200943938638678), np.float64(0.7312863504344466), np.float64(0.5267610891858875), np.float64(0.6953402134607761), np.float64(0.7517937036783842), np.float64(0.584511203238738), np.float64(0.7749964551823274), np.float64(0.7173758522287013), np.float64(0.7676906630716098), np.float64(0.5039474299804981), np.float64(0.6244977356976446), np.float64(0.7272247441541362), np.float64(0.7567379324469029), np.float64(0.6831802419084058), np.float64(0.7419633368564881), np.float64(0.6879163480147099), np.float64(0.7959217825720358), np.float64(0.6857043418633819), np.float64(0.7656099285680646), np.float64(0.7236085439759538), np.float64(0.7532047237410879), np.float64(0.7597053240241413), np.float64(0.5472644842060009), np.float64(0.6872918621709702), np.float64(0.7217993843058448), np.float64(0.6859268465175358), np.float64(0.7482628818343268), np.float64(0.7083629232621508), np.float64(0.7585628330356758), np.float64(0.5151672226059566), np.float64(0.8115065225508714), np.float64(0.753079241787809), np.float64(0.7684145578097167), np.float64(0.6655095029832163), np.float64(0.711359082906483), np.float64(0.7496548030259715), np.float64(0.7693945844511475), np.float64(0.7268890975195397), np.float64(0.7906555914583792), np.float64(0.7060060018586871), np.float64(0.7484914696897459), np.float64(0.7309698589697383), np.float64(0.7151220973173085), np.float64(0.7073787331480734), np.float64(0.7097889295263422), np.float64(0.5755947164366118), np.float64(0.7514844079619516), np.float64(0.776236004122044), np.float64(0.6852520162695708), np.float64(0.7598833279152012), np.float64(0.7670818779674661), np.float64(0.6108474504912101), np.float64(0.7018145622890062), np.float64(0.7024493421897529), np.float64(0.7362610774579024), np.float64(0.7500992371122301), np.float64(0.7157849909860095), np.float64(0.7528594546200862), np.float64(0.7549337294631097), np.float64(0.7326720914849078), np.float64(0.7269959371987839), np.float64(0.6997762369528352), np.float64(0.7445340671247828), np.float64(0.7156675164116633), np.float64(0.7458964353871982), np.float64(0.7477938237532025), np.float64(0.5628843544357442), np.float64(0.7185548249565198), np.float64(0.7360126880736001), np.float64(0.6472439007260302), np.float64(0.7255048775421015), np.float64(0.7646479379098075), np.float64(0.7565462257593081), np.float64(0.7485662569006657), np.float64(0.6698516428395569), np.float64(0.7486014263802846), np.float64(0.7338864420284198), np.float64(0.7216216544646096), np.float64(0.684154383012354), np.float64(0.7315323967937226), np.float64(0.751012993863738), np.float64(0.757440623664851), np.float64(0.7491458875467725), np.float64(0.7416316806529731), np.float64(0.7434072196830825), np.float64(0.7168689943516933), np.float64(0.7305693834629842), np.float64(0.47210652828259847), np.float64(0.6615575960356849), np.float64(0.7122727025090934), np.float64(0.6968242342425184), np.float64(0.7113983597396728), np.float64(0.7568412814394787), np.float64(0.6736746172581514), np.float64(0.7402781607539363), np.float64(0.752765690384194), np.float64(0.7314003160066511), np.float64(0.733260521660843), np.float64(0.6799960062731203), np.float64(0.6760866666084394), np.float64(0.7133686485168391), np.float64(0.6901434684214465), np.float64(0.7417907549119468), np.float64(0.7131463992844246), np.float64(0.6969943546957246), np.float64(0.6985979820453231), np.float64(0.7426279382587021), np.float64(0.6799840374207906), np.float64(0.7771777001260042), np.float64(0.7246703322000124), np.float64(0.6824041781108241), np.float64(0.736156320390879), np.float64(0.6983607303987168), np.float64(0.6444599489200286), np.float64(0.7424002819625023), np.float64(0.7095816344436658), np.float64(0.6844043784239914), np.float64(0.6029923695831765), np.float64(0.7450909801168891), np.float64(0.7140245178594308), np.float64(0.7094589022343736), np.float64(0.7492225825140122), np.float64(0.7302264514983229), np.float64(0.6822001559238848), np.float64(0.6944757099217009), np.float64(0.6850728804814397), np.float64(0.7250854184359611), np.float64(0.6419854325102431), np.float64(0.7195501421148554), np.float64(0.6917371086715224), np.float64(0.6917881105498029), np.float64(0.6884065634871853), np.float64(0.7176336005709313), np.float64(0.7431449662246568), np.float64(0.7199757884978613), np.float64(0.7302824436767086), np.float64(0.642908823173771), np.float64(0.6705154013399512), np.float64(0.6675675940025203), np.float64(0.7319400294251459), np.float64(0.6088072593091554), np.float64(0.7516761634858625), np.float64(0.7319362101447987), np.float64(0.6583964690309331), np.float64(0.7259062230364909), np.float64(0.7298470738531685), np.float64(0.7149494652534607), np.float64(0.7104969683158587), np.float64(0.7065803648777408), np.float64(0.7041669592323786), np.float64(0.6986020383468909), np.float64(0.7017675299600505), np.float64(0.7241229885752014), np.float64(0.7006192079381018), np.float64(0.6663552637385588), np.float64(0.7361591790140954), np.float64(0.7028657625447219), np.float64(0.685166974926045), np.float64(0.729668128909667), np.float64(0.6603303552490202), np.float64(0.7759099712770571), np.float64(0.6964187167558412), np.float64(0.7210357260624574), np.float64(0.7567766118899932), np.float64(0.710421970694386), np.float64(0.6808973082273028), np.float64(0.7651782744067012), np.float64(0.7227659095257525), np.float64(0.6741524671570271), np.float64(0.7061106195650168), np.float64(0.6846076306176511), np.float64(0.7228687567992927), np.float64(0.6007416233514253), np.float64(0.7301615557099095), np.float64(0.7312664313327493), np.float64(0.676407434953003), np.float64(0.7559839492455469), np.float64(0.743968611752834), np.float64(0.66307369735003), np.float64(0.7379292942824148), np.float64(0.7557262278257884), np.float64(0.7082109154903627), np.float64(0.7287701820268453), np.float64(0.7430151740272489), np.float64(0.6975838555322608), np.float64(0.8119888700534151), np.float64(0.7108918928538046), np.float64(0.6788324514953271)]\n"
     ]
    }
   ],
   "source": [
    "#to iterate through the rows, I can use the iterrows() function. However a faster impelementation is using itertuples function\n",
    "#this returns the rows as named tuples\n",
    "ScoreCombination = [] \n",
    "CompaniesScore = []\n",
    "for i, row in scoreMatrix.iterrows():\n",
    "    #print(row)\n",
    "    comp = row['Company']\n",
    "    r = row.drop('Company').values\n",
    "    #print(r[7])\n",
    "    CompaniesScore.append(comp)\n",
    "    ScoreCombination.append(CalcSC(divstrs,r))\n",
    "print(CompaniesScore)\n",
    "print(ScoreCombination)"
   ]
  },
  {
   "cell_type": "code",
   "execution_count": 20,
   "id": "3a356c93",
   "metadata": {},
   "outputs": [
    {
     "name": "stdout",
     "output_type": "stream",
     "text": [
      "['NasdaqGS:AAPL', 'NasdaqGS:TROW', 'NasdaqGS:MSFT', 'NYSE:MCO', 'NYSE:APH', 'NYSE:AMP', 'NYSE:MA', 'NYSE:PH', 'NYSE:FTV', 'NasdaqGS:AMZN', 'NYSE:DOV', 'NasdaqGS:KLAC', 'NasdaqGS:LRCX', 'NYSE:IR', 'NasdaqGS:QCOM', 'NasdaqGS:TXN', 'NYSE:IVZ', 'NasdaqGS:CDNS', 'NYSE:SPGI', 'NasdaqGS:TER', 'NasdaqGS:TRMB', 'NYSE:WAB', 'NYSE:V', 'NYSE:ITW', 'NasdaqGS:ROP', 'NYSE:HLT', 'NasdaqGS:AMD', 'NYSE:EMR', 'NasdaqGS:PTC', 'NYSE:ETN', 'NYSE:PNR', 'NYSE:CPAY', 'NasdaqGS:MPWR', 'NYSE:XYL', 'NasdaqGS:FFIV', 'NYSE:AME', 'NYSE:PRU', 'NYSE:PPG', 'NasdaqGS:ISRG', 'NasdaqGS:MAR', 'NYSE:TT', 'NYSE:GLW', 'NYSE:TXT', 'NasdaqGS:ON', 'NYSE:TDG', 'NYSE:EMN', 'NasdaqGS:CDW', 'NYSE:CARR', 'NYSE:HWM', 'NYSE:JCI', 'NYSE:IQV', 'NasdaqGS:ADP', 'NYSE:NOW', 'NYSE:DD', 'NYSE:BEN', 'NasdaqGS:HON', 'NYSE:VMC', 'NYSE:MSCI', 'NYSE:EFX', 'NYSE:TDY', 'NasdaqGS:CTSH', 'NasdaqGS:BKNG', 'NYSE:ROK', 'NYSE:IEX', 'NYSE:MGM', 'NasdaqGS:LIN', 'NYSE:ECL', 'NYSE:DAL', 'NYSE:LII', 'NasdaqGS:META', 'NYSE:MAS', 'NasdaqGS:NDAQ', 'NYSE:MET', 'NYSE:PLD', 'NYSE:CAT', 'NYSE:AVY', 'NYSE:DIS', 'NasdaqGS:CSX', 'NasdaqGS:STX', 'NasdaqGS:NWSA', 'NYSE:DOW', 'NYSE:CMI', 'NasdaqGS:ABNB', 'NYSE:ALLE', 'NYSE:APTV', 'NasdaqGS:PYPL', 'NYSE:SYK', 'NYSE:GPN', 'NYSE:HUBB', 'NasdaqGS:IDXX', 'NYSE:MSI', 'NasdaqGS:FAST', 'NYSE:WY', 'NYSE:TMO', 'NYSE:TYL', 'NYSE:LYB', 'NYSE:MTD', 'NYSE:FCX', 'NYSE:LYV', 'NYSE:MMC', 'NasdaqGS:EQIX', 'NYSE:PWR', 'NYSE:FRT', 'NYSE:SWK', 'NYSE:ICE', 'NYSE:ANET', 'NYSE:FICO', 'NYSE:DHR', 'NYSE:SHW', 'NYSE:BSX', 'NYSE:SNA', 'NYSE:J', 'NasdaqGS:REG', 'NYSE:EQR', 'NYSE:IPG', 'NasdaqGS:TSLA', 'NYSE:FI', 'NasdaqGS:JBHT', 'NYSE:IRM', 'NYSE:GM', 'NYSE:NSC', 'NasdaqGS:ODFL', 'NasdaqGS:NFLX', 'NasdaqGS:PCAR', 'NasdaqGS:UAL', 'NYSE:F', 'NYSE:NUE', 'NYSE:AVB', 'NYSE:KMX', 'NYSE:TRGP', 'NYSE:CMG', 'NYSE:ESS', 'NYSE:PKG', 'NYSE:OMC', 'NasdaqGS:EBAY', 'NasdaqGS:CSGP', 'NYSE:GNRC', 'NasdaqGS:ALGN', 'NYSE:GWW', 'NYSE:GE', 'NYSE:PHM', 'NYSE:GRMN', 'NYSE:DLR', 'NYSE:INVH', 'NYSE:ARE', 'NYSE:UNP', 'NYSE:RVTY', 'NasdaqGS:EXPE', 'NYSE:BLDR', 'NasdaqGS:STLD', 'NYSE:AMCR', 'NYSE:AOS', 'NasdaqGS:TECH', 'NYSE:BRO', 'NasdaqGS:POOL', 'NYSE:KMI', 'NYSE:ZTS', 'NYSE:CPT', 'NasdaqGS:SBUX', 'NYSE:TPR', 'NYSE:WMB', 'NYSE:MAA', 'NYSE:MHK', 'NYSE:HIG', 'NYSE:UPS', 'NYSE:LUV', 'NYSE:WAT', 'NYSE:VICI', 'NYSE:UBER', 'NYSE:YUM', 'NasdaqGS:FTNT', 'NYSE:GD', 'NYSE:PAYC', 'NasdaqGS:CMCSA', 'NasdaqGS:WYNN', 'NYSE:MMM', 'NYSE:AFL', 'NasdaqGS:AKAM', 'NasdaqGS:TSCO', 'NasdaqGS:BKR', 'NasdaqGS:CINF', 'NYSE:EPAM', 'NYSE:EXR', 'NYSE:DOC', 'NYSE:LH', 'NasdaqGS:MTCH', 'NYSE:IBM', 'NYSE:APD', 'NYSE:DHI', 'NYSE:AES', 'NYSE:AON', 'NYSE:PEG', 'NasdaqGS:HAS', 'NasdaqGS:GEN', 'NYSE:RSG', 'NYSE:IP', 'NYSE:VST', 'NYSE:IFF', 'NYSE:LVS', 'NYSE:PSA', 'NYSE:CVX', 'NYSE:ZBH', 'NYSE:FIS', 'NYSE:OXY', 'NYSE:ABT', 'NYSE:UHS', 'NasdaqGS:FANG', 'NYSE:SYY', 'NYSE:BDX', 'NasdaqGS:CEG', 'NYSE:SRE', 'NYSE:SLB', 'NasdaqGS:PODD', 'NYSE:NI', 'NYSE:PCG', 'NYSE:PSX', 'NYSE:RMD', 'NYSE:RTX', 'NasdaqGS:AXON', 'NYSE:EIX', 'NYSE:CTVA', 'NasdaqGS:CHTR', 'NasdaqGS:HSIC', 'NasdaqGS:JKHY', 'NYSE:HCA', 'NasdaqGS:MNST', 'NYSE:MPC', 'NYSE:CTRA', 'NasdaqGS:DPZ', 'NYSE:MOS', 'NYSE:COP', 'NYSE:PPL', 'NYSE:EOG', 'NasdaqGS:CHRW', 'NasdaqGS:EA', 'NYSE:WM', 'NYSE:ATO', 'NYSE:EQT', 'NYSE:EW', 'NasdaqGS:HOLX', 'NYSE:XOM', 'NYSE:MCD', 'NYSE:CNP', 'NasdaqGS:TMUS', 'NasdaqGS:DXCM', 'NasdaqGS:SBAC', 'NYSE:LDOS', 'NYSE:VLO', 'NYSE:CB', 'NasdaqGS:BIIB', 'NasdaqGS:ACGL', 'NasdaqGM:ENPH', 'NasdaqGS:ORLY', 'NYSE:DTE', 'NasdaqGS:REGN', 'NYSE:NEE', 'NYSE:EG', 'NYSE:LHX', 'NYSE:WST', 'NasdaqGS:LNT', 'NasdaqGS:EVRG', 'NasdaqGS:SMCI', 'NYSE:AEE', 'NYSE:ETR', 'NYSE:DGX', 'NYSE:KO', 'NYSE:PNW', 'NYSE:HII', 'NYSE:FE', 'NYSE:AMT', 'NYSE:ES', 'NYSE:AWK', 'NYSE:LLY', 'NasdaqGS:MDLZ', 'NasdaqGS:FSLR', 'NYSE:BG', 'NYSE:PFE', 'NYSE:CAH', 'NYSE:ADM', 'NYSE:CMS', 'NYSE:PG', 'NasdaqGS:PEP', 'NasdaqGS:AMGN', 'NasdaqGS:XEL', 'NasdaqGS:AEP', 'NYSE:TAP', 'NYSE:WEC', 'NasdaqGS:MKTX', 'NasdaqGS:GILD', 'NYSE:TEL', 'NYSE:PM', 'NasdaqGS:NXPI', 'NasdaqGS:KDP', 'NasdaqGS:EXC', 'NYSE:D', 'NYSE:PGR', 'NYSE:CVS', 'NYSE:CF', 'NYSE:TSN', 'NYSE:DUK', 'NYSE:CL', 'NYSE:ELV', 'NYSE:ABBV', 'NYSE:KMB', 'NYSE:LMT', 'NYSE:CLX', 'NYSE:COR', 'NYSE:CI', 'NYSE:MO', 'NYSE:UNH', 'NasdaqGS:CME', 'NYSE:VZ', 'NYSE:CNC', 'NYSE:CHD', 'NYSE:MRK', 'NYSE:JNJ', 'NYSE:NOC', 'NYSE:MCK', 'NYSE:HUM', 'NYSE:SW', 'NYSE:BMY', 'BATS:CBOE']\n",
      "[np.float64(155.09362887960535), np.float64(153.5800677976948), np.float64(136.52402411783143), np.float64(168.32494083338025), np.float64(116.06381830324312), np.float64(62.123891284808195), np.float64(158.70683548678744), np.float64(143.41623719490119), np.float64(151.60539683798254), np.float64(105.3730823717158), np.float64(102.94237206959617), np.float64(132.45298340861797), np.float64(100.5579202959746), np.float64(174.49667665887696), np.float64(74.38149502586319), np.float64(185.10904291534496), np.float64(94.81928202121178), np.float64(154.30671255456198), np.float64(139.60005072062623), np.float64(166.24834169717337), np.float64(152.33474643412316), np.float64(97.7275610094406), np.float64(164.65523414889978), np.float64(181.94442215225573), np.float64(164.54408430132426), np.float64(162.3072251160499), np.float64(112.486035983654), np.float64(127.26262932871904), np.float64(168.31829496281952), np.float64(133.01312971290363), np.float64(135.70751697212364), np.float64(135.8766913231077), np.float64(146.3040227826634), np.float64(139.42003013074418), np.float64(140.6212437899257), np.float64(145.4454408422864), np.float64(67.02276563267674), np.float64(120.83400526257002), np.float64(206.74104944125102), np.float64(170.79021936095188), np.float64(125.49232888705708), np.float64(96.73575311995306), np.float64(95.81621698077745), np.float64(163.71812640387753), np.float64(200.32680784753143), np.float64(126.63047900400971), np.float64(138.38272015163517), np.float64(82.82977818183302), np.float64(174.7957061215608), np.float64(133.02737566441505), np.float64(132.81872807342975), np.float64(143.94866921539108), np.float64(151.93771591022235), np.float64(143.3719347502148), np.float64(156.49089859398373), np.float64(152.1820391691458), np.float64(156.75803136702962), np.float64(185.95743993949532), np.float64(201.98049844186926), np.float64(181.72240603545873), np.float64(116.61451994539549), np.float64(119.50366314414022), np.float64(186.936710992548), np.float64(164.39262798101868), np.float64(151.30200700058253), np.float64(190.89986632215013), np.float64(124.72751821080811), np.float64(135.52459875407763), np.float64(194.96908449241343), np.float64(128.78464228118975), np.float64(155.6164547152692), np.float64(120.72733582845585), np.float64(71.48132556088667), np.float64(234.9697537158502), np.float64(141.78247597085732), np.float64(138.69858392030804), np.float64(95.08791644111037), np.float64(153.35740094602897), np.float64(80.42544535532943), np.float64(120.53290798694923), np.float64(193.54633492512812), np.float64(122.54309762737938), np.float64(180.4971715349175), np.float64(176.29673020508324), np.float64(74.36089420561729), np.float64(93.1353486561389), np.float64(164.6390566372747), np.float64(100.14533579903171), np.float64(169.9160886712607), np.float64(171.84926191020898), np.float64(178.79161410054124), np.float64(203.01987070331572), np.float64(166.13117362663831), np.float64(132.01655744466873), np.float64(203.6097154956748), np.float64(141.91280617091726), np.float64(189.78123614007782), np.float64(108.03291173938923), np.float64(212.4367993604285), np.float64(168.5357992612713), np.float64(165.0706503071266), np.float64(160.70450004432792), np.float64(233.26337083282917), np.float64(112.23370907869197), np.float64(152.23172576584574), np.float64(173.4447339105855), np.float64(199.73465988397007), np.float64(184.61963735683358), np.float64(182.47375885564003), np.float64(149.12527954825643), np.float64(189.42654012706052), np.float64(110.34710641161602), np.float64(213.24558073330545), np.float64(237.35035365947306), np.float64(174.82073845593578), np.float64(264.01791367941604), np.float64(110.00926360810966), np.float64(155.77971159489164), np.float64(187.6508086172048), np.float64(91.26911855135246), np.float64(120.75781294209665), np.float64(196.6372062224284), np.float64(141.8234666371611), np.float64(127.9153155601318), np.float64(117.03440511406512), np.float64(169.1107385307327), np.float64(122.93530486043258), np.float64(238.99606385081304), np.float64(110.99028508657342), np.float64(114.10155914037625), np.float64(161.12180814247026), np.float64(245.0722300549404), np.float64(129.20217548226435), np.float64(146.2870509888333), np.float64(123.84174626460248), np.float64(184.0557179995153), np.float64(156.35402186853844), np.float64(163.0425966686829), np.float64(188.069373342111), np.float64(154.0969082903058), np.float64(142.60294685507145), np.float64(167.60496423470497), np.float64(237.83285468652218), np.float64(226.5925864841061), np.float64(183.28821661514428), np.float64(143.3883320539289), np.float64(202.38464791618426), np.float64(90.46390288054609), np.float64(150.20028457706272), np.float64(112.02561514434876), np.float64(164.3489791585729), np.float64(165.66499809163614), np.float64(211.90677846876767), np.float64(204.0476124356522), np.float64(214.1086605704629), np.float64(162.97516549555408), np.float64(184.7509094939324), np.float64(206.74803402783334), np.float64(194.68277628382762), np.float64(104.13316806444008), np.float64(177.54645242718), np.float64(257.42149955256406), np.float64(150.52627838863674), np.float64(75.98206600112799), np.float64(165.70268477014298), np.float64(105.92087948598807), np.float64(176.92953277121305), np.float64(144.96282588787554), np.float64(163.79744863782673), np.float64(156.06798889917613), np.float64(215.20368622997785), np.float64(113.50389953774867), np.float64(190.38310868432163), np.float64(111.72111492999771), np.float64(208.5290337431908), np.float64(170.17751732183308), np.float64(170.56929909969992), np.float64(189.6464500587867), np.float64(194.5937443647184), np.float64(136.5918061282544), np.float64(191.56992429330623), np.float64(144.38314974886083), np.float64(216.17498073121155), np.float64(250.2144011575545), np.float64(119.67474922880075), np.float64(119.69612848929339), np.float64(196.80974416521755), np.float64(201.46314515440403), np.float64(149.17449064648102), np.float64(157.31647160609708), np.float64(154.9551540853589), np.float64(182.6940811085848), np.float64(171.88536146664578), np.float64(129.70942656298453), np.float64(193.61487771514558), np.float64(127.6628288902112), np.float64(113.82093254754976), np.float64(188.61845714636496), np.float64(137.6966508549853), np.float64(220.55402445473408), np.float64(163.4375960603432), np.float64(179.85682638179506), np.float64(146.36540579473245), np.float64(154.8399745659754), np.float64(141.2828557050179), np.float64(119.68739583528655), np.float64(177.50324930209604), np.float64(132.9354289020516), np.float64(124.27987452964034), np.float64(200.10080090244787), np.float64(159.26035554865882), np.float64(194.12820445933468), np.float64(174.87042828434286), np.float64(164.73354920809166), np.float64(111.70827327637373), np.float64(153.53822781376732), np.float64(155.04949521472733), np.float64(169.21209891982005), np.float64(258.9999262071381), np.float64(129.12353439469248), np.float64(128.875075895173), np.float64(134.37840215741232), np.float64(155.8653768524477), np.float64(228.5437738139545), np.float64(116.0417138990014), np.float64(200.1572958935591), np.float64(151.9362334417087), np.float64(127.58023489431977), np.float64(221.15534662138316), np.float64(143.50753568894774), np.float64(163.58305677045044), np.float64(184.97794347212098), np.float64(161.528093051031), np.float64(142.15667711513487), np.float64(209.8929217969116), np.float64(183.28505408631375), np.float64(218.59933375216173), np.float64(154.46146423068214), np.float64(195.13110263715873), np.float64(170.8641418002705), np.float64(123.52481731732205), np.float64(185.89992847598128), np.float64(207.52365186734), np.float64(121.99952030604128), np.float64(172.95869490448916), np.float64(195.38384203629792), np.float64(141.13235525623608), np.float64(203.70879450538732), np.float64(176.41464812928893), np.float64(166.42534785187115), np.float64(153.33463728335803), np.float64(216.20655140341074), np.float64(184.3661679984021), np.float64(152.58516869980676), np.float64(199.41859309635623), np.float64(190.96844914998567), np.float64(102.31391286135664), np.float64(191.21817793239558), np.float64(231.22103637014018), np.float64(183.67439406410477), np.float64(196.02805579206995), np.float64(102.86643710550685), np.float64(170.23248447818133), np.float64(204.26406227904266), np.float64(164.28743803179646), np.float64(205.76829178007534), np.float64(227.47417395976743), np.float64(161.67015948099632), np.float64(189.8704572939126), np.float64(175.3711560100065), np.float64(151.96914743516888), np.float64(215.2381001389344), np.float64(181.0398271008652), np.float64(206.58574480274967), np.float64(135.41697602425293), np.float64(183.40989957964254), np.float64(173.78364410810946), np.float64(132.66529167265435), np.float64(168.4841454635679), np.float64(185.8479691204647), np.float64(185.46533483472732), np.float64(171.34743849416282), np.float64(195.27510127558168), np.float64(175.3346667533961), np.float64(186.42617772428923), np.float64(149.57434430027936), np.float64(217.5856228687207), np.float64(230.43974595744695), np.float64(115.46552812089598), np.float64(174.64250917302928), np.float64(150.630358458775), np.float64(209.26310901319852), np.float64(165.92411202215845), np.float64(179.2251062723556), np.float64(154.59801953420512), np.float64(134.1380945189503), np.float64(85.71188360071538), np.float64(212.15631730758014), np.float64(101.82503053140088), np.float64(172.575278313587), np.float64(191.46949056761864), np.float64(109.26279188576814), np.float64(152.51330161799427), np.float64(174.39556511430666), np.float64(162.74779803741842), np.float64(191.29832980398365), np.float64(144.30973807661084), np.float64(107.54207862656712), np.float64(197.48720945050917), np.float64(153.07075377633092), np.float64(223.91752637282318), np.float64(145.82117357284378), np.float64(115.18046732731621), np.float64(223.47477935541474), np.float64(105.34792925521172), np.float64(145.1565917859212), np.float64(198.4280983142675), np.float64(117.04515710045236), np.float64(189.0773836022537), np.float64(140.99466479404376), np.float64(92.06086439757732), np.float64(194.09238249078092)]\n"
     ]
    }
   ],
   "source": [
    "RankCombination = []\n",
    "CompaniesRank = []\n",
    "for i, row in rankMatrix.iterrows():\n",
    "    #print(row)\n",
    "    comp = row['Company']\n",
    "    r = row.drop('Company').values\n",
    "    CompaniesRank.append(comp)\n",
    "    RankCombination.append(CalcRC(divstrs,r))\n",
    "print(CompaniesRank)\n",
    "print(RankCombination)"
   ]
  },
  {
   "cell_type": "code",
   "execution_count": 21,
   "id": "1d1df1d2",
   "metadata": {},
   "outputs": [
    {
     "name": "stdout",
     "output_type": "stream",
     "text": [
      "           Company        SC\n",
      "6         NYSE:AMP  0.864502\n",
      "38        NYSE:PRU  0.833520\n",
      "13        NYSE:IVZ  0.829894\n",
      "15   NasdaqGS:QCOM  0.823349\n",
      "79    NasdaqGS:STX  0.822557\n",
      "..             ...       ...\n",
      "136  NasdaqGS:CSGP  0.526761\n",
      "163       NYSE:MAA  0.515167\n",
      "143       NYSE:DLR  0.503947\n",
      "115  NasdaqGS:TSLA  0.496026\n",
      "221  NasdaqGS:AXON  0.472107\n",
      "\n",
      "[322 rows x 2 columns]\n",
      "           Company          RC\n",
      "5         NYSE:AMP   62.123891\n",
      "36        NYSE:PRU   67.022766\n",
      "72        NYSE:MET   71.481326\n",
      "84       NYSE:APTV   74.360894\n",
      "14   NasdaqGS:QCOM   74.381495\n",
      "..             ...         ...\n",
      "131       NYSE:ESS  245.072230\n",
      "183       NYSE:DOC  250.214401\n",
      "161       NYSE:MAA  257.421500\n",
      "218  NasdaqGS:AXON  258.999926\n",
      "115  NasdaqGS:TSLA  264.017914\n",
      "\n",
      "[322 rows x 2 columns]\n"
     ]
    },
    {
     "data": {
      "text/plain": [
       "'\\nfilename = f\"Results/8/Rank.csv\"\\nRank.to_csv(filename,index=False)\\nprint(f\"Saved {filename}\")\\nfilename = f\"Results/8/Score.csv\"\\nScore.to_csv(filename,index=False)\\nprint(f\"Saved {filename}\")\\n'"
      ]
     },
     "execution_count": 21,
     "metadata": {},
     "output_type": "execute_result"
    }
   ],
   "source": [
    "#Take top 15%\n",
    "#also view the best stocks for each\n",
    "Score = pd.DataFrame({'Company':CompaniesScore,'SC':ScoreCombination})\n",
    "Rank = pd.DataFrame({'Company':CompaniesRank,'RC':RankCombination})\n",
    "\n",
    "Score = Score.sort_values(by='SC',ascending= False) #tsla is on the bottom damn\n",
    "print(Score)\n",
    "Rank = Rank.sort_values(by='RC',ascending=True)#tsla is on the top for rank, seems more real\n",
    "print(Rank)\n",
    "'''\n",
    "filename = f\"Results/8/Rank.csv\"\n",
    "Rank.to_csv(filename,index=False)\n",
    "print(f\"Saved {filename}\")\n",
    "filename = f\"Results/8/Score.csv\"\n",
    "Score.to_csv(filename,index=False)\n",
    "print(f\"Saved {filename}\")\n",
    "'''"
   ]
  },
  {
   "cell_type": "markdown",
   "id": "36828596",
   "metadata": {},
   "source": [
    "Best Stock via Score Combination:\n",
    "NYSE:AMP\n",
    "\n",
    "Best Stock via Rank Combination:\n",
    "NasdaqGS:TSLA\n",
    "\n",
    "The top 15% of stocks"
   ]
  },
  {
   "cell_type": "code",
   "execution_count": 22,
   "id": "83820867",
   "metadata": {},
   "outputs": [],
   "source": [
    "def ScoreCombinations(scoreMatrix, K, weight):\n",
    "    ScoreCombination = []\n",
    "    CompaniesScore = []\n",
    "\n",
    "    # Get indicator column names (excluding 'Company')\n",
    "    indicator_cols = [col for col in scoreMatrix.columns if col != 'Company']\n",
    "\n",
    "    # All possible column index combinations\n",
    "    col_combos = list(combinations(range(len(indicator_cols)), K))\n",
    "    \n",
    "\n",
    "    for _, row in scoreMatrix.iterrows():\n",
    "        comp = row['Company']\n",
    "        r = row.drop('Company').values  # numeric values only\n",
    "\n",
    "        combos_for_company = []\n",
    "        for combo in col_combos:\n",
    "            r_subset = [r[idx] for idx in combo] #subset of which models we chose\n",
    "            w_subset = [weight[idx] for idx in combo]\n",
    "            score = CalcSC(w_subset, r_subset)\n",
    "\n",
    "            # store both indices and values\n",
    "            combos_for_company.append({\n",
    "                \"indices\": combo,\n",
    "                \"columns\": tuple(indicator_cols[idx] for idx in combo),\n",
    "                \"values\": tuple(r_subset),\n",
    "                \"Score\":score\n",
    "            })\n",
    "\n",
    "        CompaniesScore.append(comp)\n",
    "        ScoreCombination.append(combos_for_company)\n",
    "\n",
    "    return CompaniesScore, ScoreCombination\n"
   ]
  },
  {
   "cell_type": "code",
   "execution_count": 23,
   "id": "8bcd4908",
   "metadata": {},
   "outputs": [],
   "source": [
    "def RankCombinations(rankMatrix, K, weight):\n",
    "    RankCombination = []\n",
    "    CompaniesRank = []\n",
    "\n",
    "    # Get indicator column names (excluding 'Company')\n",
    "    indicator_cols = [col for col in rankMatrix.columns if col != 'Company']\n",
    "\n",
    "    #All possible column index combinations\n",
    "    col_combos = list(combinations(range(len(indicator_cols)), K))\n",
    "    \n",
    "\n",
    "    for _, row in rankMatrix.iterrows():\n",
    "        comp = row['Company']\n",
    "        r = row.drop('Company').values  #numeric values only\n",
    "\n",
    "        combos_for_company = []\n",
    "        for combo in col_combos:\n",
    "            r_subset = [r[idx] for idx in combo] #subset of which models we chose\n",
    "            w_subset = [weight[idx] for idx in combo]\n",
    "            rank = CalcRC(w_subset, r_subset)\n",
    "\n",
    "            # store both indices and values\n",
    "            combos_for_company.append({\n",
    "                \"indices\": combo,\n",
    "                \"columns\": tuple(indicator_cols[idx] for idx in combo),\n",
    "                \"values\": tuple(r_subset),\n",
    "                \"Rank\":rank\n",
    "            })\n",
    "\n",
    "        CompaniesRank.append(comp)\n",
    "        RankCombination.append(combos_for_company)\n",
    "\n",
    "    return CompaniesRank, RankCombination\n"
   ]
  },
  {
   "cell_type": "code",
   "execution_count": 25,
   "id": "05995501",
   "metadata": {},
   "outputs": [
    {
     "name": "stdout",
     "output_type": "stream",
     "text": [
      "           Company                                                 SC\n",
      "0    NasdaqGS:AAPL  [{'indices': (0, 1), 'columns': ('Three_Year_R...\n",
      "1    NasdaqGS:TROW  [{'indices': (0, 1), 'columns': ('Three_Year_R...\n",
      "2    NasdaqGS:MSFT  [{'indices': (0, 1), 'columns': ('Three_Year_R...\n",
      "3         NYSE:MCO  [{'indices': (0, 1), 'columns': ('Three_Year_R...\n",
      "4          NYSE:MA  [{'indices': (0, 1), 'columns': ('Three_Year_R...\n",
      "..             ...                                                ...\n",
      "317       NYSE:MCK  [{'indices': (0, 1), 'columns': ('Three_Year_R...\n",
      "318       NYSE:NOC  [{'indices': (0, 1), 'columns': ('Three_Year_R...\n",
      "319       NYSE:BMY  [{'indices': (0, 1), 'columns': ('Three_Year_R...\n",
      "320        NYSE:SW  [{'indices': (0, 1), 'columns': ('Three_Year_R...\n",
      "321      BATS:CBOE  [{'indices': (0, 1), 'columns': ('Three_Year_R...\n",
      "\n",
      "[322 rows x 2 columns]\n"
     ]
    },
    {
     "ename": "OSError",
     "evalue": "Cannot save file into a non-existent directory: 'Results/2'",
     "output_type": "error",
     "traceback": [
      "\u001b[31m---------------------------------------------------------------------------\u001b[39m",
      "\u001b[31mOSError\u001b[39m                                   Traceback (most recent call last)",
      "\u001b[36mCell\u001b[39m\u001b[36m \u001b[39m\u001b[32mIn[25]\u001b[39m\u001b[32m, line 6\u001b[39m\n\u001b[32m      4\u001b[39m \u001b[38;5;28mprint\u001b[39m(Score)\n\u001b[32m      5\u001b[39m filename = \u001b[33mf\u001b[39m\u001b[33m\"\u001b[39m\u001b[33mResults/2/Score.csv\u001b[39m\u001b[33m\"\u001b[39m\n\u001b[32m----> \u001b[39m\u001b[32m6\u001b[39m \u001b[43mScore\u001b[49m\u001b[43m.\u001b[49m\u001b[43mto_csv\u001b[49m\u001b[43m(\u001b[49m\u001b[43mfilename\u001b[49m\u001b[43m,\u001b[49m\u001b[43mindex\u001b[49m\u001b[43m=\u001b[49m\u001b[38;5;28;43;01mFalse\u001b[39;49;00m\u001b[43m)\u001b[49m\n\u001b[32m      7\u001b[39m \u001b[38;5;28mprint\u001b[39m(\u001b[33mf\u001b[39m\u001b[33m\"\u001b[39m\u001b[33mSaved \u001b[39m\u001b[38;5;132;01m{\u001b[39;00mfilename\u001b[38;5;132;01m}\u001b[39;00m\u001b[33m\"\u001b[39m)\n",
      "\u001b[36mFile \u001b[39m\u001b[32m~/envs/finance/finance/lib/python3.13/site-packages/pandas/util/_decorators.py:333\u001b[39m, in \u001b[36mdeprecate_nonkeyword_arguments.<locals>.decorate.<locals>.wrapper\u001b[39m\u001b[34m(*args, **kwargs)\u001b[39m\n\u001b[32m    327\u001b[39m \u001b[38;5;28;01mif\u001b[39;00m \u001b[38;5;28mlen\u001b[39m(args) > num_allow_args:\n\u001b[32m    328\u001b[39m     warnings.warn(\n\u001b[32m    329\u001b[39m         msg.format(arguments=_format_argument_list(allow_args)),\n\u001b[32m    330\u001b[39m         \u001b[38;5;167;01mFutureWarning\u001b[39;00m,\n\u001b[32m    331\u001b[39m         stacklevel=find_stack_level(),\n\u001b[32m    332\u001b[39m     )\n\u001b[32m--> \u001b[39m\u001b[32m333\u001b[39m \u001b[38;5;28;01mreturn\u001b[39;00m \u001b[43mfunc\u001b[49m\u001b[43m(\u001b[49m\u001b[43m*\u001b[49m\u001b[43margs\u001b[49m\u001b[43m,\u001b[49m\u001b[43m \u001b[49m\u001b[43m*\u001b[49m\u001b[43m*\u001b[49m\u001b[43mkwargs\u001b[49m\u001b[43m)\u001b[49m\n",
      "\u001b[36mFile \u001b[39m\u001b[32m~/envs/finance/finance/lib/python3.13/site-packages/pandas/core/generic.py:3986\u001b[39m, in \u001b[36mNDFrame.to_csv\u001b[39m\u001b[34m(self, path_or_buf, sep, na_rep, float_format, columns, header, index, index_label, mode, encoding, compression, quoting, quotechar, lineterminator, chunksize, date_format, doublequote, escapechar, decimal, errors, storage_options)\u001b[39m\n\u001b[32m   3975\u001b[39m df = \u001b[38;5;28mself\u001b[39m \u001b[38;5;28;01mif\u001b[39;00m \u001b[38;5;28misinstance\u001b[39m(\u001b[38;5;28mself\u001b[39m, ABCDataFrame) \u001b[38;5;28;01melse\u001b[39;00m \u001b[38;5;28mself\u001b[39m.to_frame()\n\u001b[32m   3977\u001b[39m formatter = DataFrameFormatter(\n\u001b[32m   3978\u001b[39m     frame=df,\n\u001b[32m   3979\u001b[39m     header=header,\n\u001b[32m   (...)\u001b[39m\u001b[32m   3983\u001b[39m     decimal=decimal,\n\u001b[32m   3984\u001b[39m )\n\u001b[32m-> \u001b[39m\u001b[32m3986\u001b[39m \u001b[38;5;28;01mreturn\u001b[39;00m \u001b[43mDataFrameRenderer\u001b[49m\u001b[43m(\u001b[49m\u001b[43mformatter\u001b[49m\u001b[43m)\u001b[49m\u001b[43m.\u001b[49m\u001b[43mto_csv\u001b[49m\u001b[43m(\u001b[49m\n\u001b[32m   3987\u001b[39m \u001b[43m    \u001b[49m\u001b[43mpath_or_buf\u001b[49m\u001b[43m,\u001b[49m\n\u001b[32m   3988\u001b[39m \u001b[43m    \u001b[49m\u001b[43mlineterminator\u001b[49m\u001b[43m=\u001b[49m\u001b[43mlineterminator\u001b[49m\u001b[43m,\u001b[49m\n\u001b[32m   3989\u001b[39m \u001b[43m    \u001b[49m\u001b[43msep\u001b[49m\u001b[43m=\u001b[49m\u001b[43msep\u001b[49m\u001b[43m,\u001b[49m\n\u001b[32m   3990\u001b[39m \u001b[43m    \u001b[49m\u001b[43mencoding\u001b[49m\u001b[43m=\u001b[49m\u001b[43mencoding\u001b[49m\u001b[43m,\u001b[49m\n\u001b[32m   3991\u001b[39m \u001b[43m    \u001b[49m\u001b[43merrors\u001b[49m\u001b[43m=\u001b[49m\u001b[43merrors\u001b[49m\u001b[43m,\u001b[49m\n\u001b[32m   3992\u001b[39m \u001b[43m    \u001b[49m\u001b[43mcompression\u001b[49m\u001b[43m=\u001b[49m\u001b[43mcompression\u001b[49m\u001b[43m,\u001b[49m\n\u001b[32m   3993\u001b[39m \u001b[43m    \u001b[49m\u001b[43mquoting\u001b[49m\u001b[43m=\u001b[49m\u001b[43mquoting\u001b[49m\u001b[43m,\u001b[49m\n\u001b[32m   3994\u001b[39m \u001b[43m    \u001b[49m\u001b[43mcolumns\u001b[49m\u001b[43m=\u001b[49m\u001b[43mcolumns\u001b[49m\u001b[43m,\u001b[49m\n\u001b[32m   3995\u001b[39m \u001b[43m    \u001b[49m\u001b[43mindex_label\u001b[49m\u001b[43m=\u001b[49m\u001b[43mindex_label\u001b[49m\u001b[43m,\u001b[49m\n\u001b[32m   3996\u001b[39m \u001b[43m    \u001b[49m\u001b[43mmode\u001b[49m\u001b[43m=\u001b[49m\u001b[43mmode\u001b[49m\u001b[43m,\u001b[49m\n\u001b[32m   3997\u001b[39m \u001b[43m    \u001b[49m\u001b[43mchunksize\u001b[49m\u001b[43m=\u001b[49m\u001b[43mchunksize\u001b[49m\u001b[43m,\u001b[49m\n\u001b[32m   3998\u001b[39m \u001b[43m    \u001b[49m\u001b[43mquotechar\u001b[49m\u001b[43m=\u001b[49m\u001b[43mquotechar\u001b[49m\u001b[43m,\u001b[49m\n\u001b[32m   3999\u001b[39m \u001b[43m    \u001b[49m\u001b[43mdate_format\u001b[49m\u001b[43m=\u001b[49m\u001b[43mdate_format\u001b[49m\u001b[43m,\u001b[49m\n\u001b[32m   4000\u001b[39m \u001b[43m    \u001b[49m\u001b[43mdoublequote\u001b[49m\u001b[43m=\u001b[49m\u001b[43mdoublequote\u001b[49m\u001b[43m,\u001b[49m\n\u001b[32m   4001\u001b[39m \u001b[43m    \u001b[49m\u001b[43mescapechar\u001b[49m\u001b[43m=\u001b[49m\u001b[43mescapechar\u001b[49m\u001b[43m,\u001b[49m\n\u001b[32m   4002\u001b[39m \u001b[43m    \u001b[49m\u001b[43mstorage_options\u001b[49m\u001b[43m=\u001b[49m\u001b[43mstorage_options\u001b[49m\u001b[43m,\u001b[49m\n\u001b[32m   4003\u001b[39m \u001b[43m\u001b[49m\u001b[43m)\u001b[49m\n",
      "\u001b[36mFile \u001b[39m\u001b[32m~/envs/finance/finance/lib/python3.13/site-packages/pandas/io/formats/format.py:1014\u001b[39m, in \u001b[36mDataFrameRenderer.to_csv\u001b[39m\u001b[34m(self, path_or_buf, encoding, sep, columns, index_label, mode, compression, quoting, quotechar, lineterminator, chunksize, date_format, doublequote, escapechar, errors, storage_options)\u001b[39m\n\u001b[32m    993\u001b[39m     created_buffer = \u001b[38;5;28;01mFalse\u001b[39;00m\n\u001b[32m    995\u001b[39m csv_formatter = CSVFormatter(\n\u001b[32m    996\u001b[39m     path_or_buf=path_or_buf,\n\u001b[32m    997\u001b[39m     lineterminator=lineterminator,\n\u001b[32m   (...)\u001b[39m\u001b[32m   1012\u001b[39m     formatter=\u001b[38;5;28mself\u001b[39m.fmt,\n\u001b[32m   1013\u001b[39m )\n\u001b[32m-> \u001b[39m\u001b[32m1014\u001b[39m \u001b[43mcsv_formatter\u001b[49m\u001b[43m.\u001b[49m\u001b[43msave\u001b[49m\u001b[43m(\u001b[49m\u001b[43m)\u001b[49m\n\u001b[32m   1016\u001b[39m \u001b[38;5;28;01mif\u001b[39;00m created_buffer:\n\u001b[32m   1017\u001b[39m     \u001b[38;5;28;01massert\u001b[39;00m \u001b[38;5;28misinstance\u001b[39m(path_or_buf, StringIO)\n",
      "\u001b[36mFile \u001b[39m\u001b[32m~/envs/finance/finance/lib/python3.13/site-packages/pandas/io/formats/csvs.py:251\u001b[39m, in \u001b[36mCSVFormatter.save\u001b[39m\u001b[34m(self)\u001b[39m\n\u001b[32m    247\u001b[39m \u001b[38;5;250m\u001b[39m\u001b[33;03m\"\"\"\u001b[39;00m\n\u001b[32m    248\u001b[39m \u001b[33;03mCreate the writer & save.\u001b[39;00m\n\u001b[32m    249\u001b[39m \u001b[33;03m\"\"\"\u001b[39;00m\n\u001b[32m    250\u001b[39m \u001b[38;5;66;03m# apply compression and byte/text conversion\u001b[39;00m\n\u001b[32m--> \u001b[39m\u001b[32m251\u001b[39m \u001b[38;5;28;01mwith\u001b[39;00m \u001b[43mget_handle\u001b[49m\u001b[43m(\u001b[49m\n\u001b[32m    252\u001b[39m \u001b[43m    \u001b[49m\u001b[38;5;28;43mself\u001b[39;49m\u001b[43m.\u001b[49m\u001b[43mfilepath_or_buffer\u001b[49m\u001b[43m,\u001b[49m\n\u001b[32m    253\u001b[39m \u001b[43m    \u001b[49m\u001b[38;5;28;43mself\u001b[39;49m\u001b[43m.\u001b[49m\u001b[43mmode\u001b[49m\u001b[43m,\u001b[49m\n\u001b[32m    254\u001b[39m \u001b[43m    \u001b[49m\u001b[43mencoding\u001b[49m\u001b[43m=\u001b[49m\u001b[38;5;28;43mself\u001b[39;49m\u001b[43m.\u001b[49m\u001b[43mencoding\u001b[49m\u001b[43m,\u001b[49m\n\u001b[32m    255\u001b[39m \u001b[43m    \u001b[49m\u001b[43merrors\u001b[49m\u001b[43m=\u001b[49m\u001b[38;5;28;43mself\u001b[39;49m\u001b[43m.\u001b[49m\u001b[43merrors\u001b[49m\u001b[43m,\u001b[49m\n\u001b[32m    256\u001b[39m \u001b[43m    \u001b[49m\u001b[43mcompression\u001b[49m\u001b[43m=\u001b[49m\u001b[38;5;28;43mself\u001b[39;49m\u001b[43m.\u001b[49m\u001b[43mcompression\u001b[49m\u001b[43m,\u001b[49m\n\u001b[32m    257\u001b[39m \u001b[43m    \u001b[49m\u001b[43mstorage_options\u001b[49m\u001b[43m=\u001b[49m\u001b[38;5;28;43mself\u001b[39;49m\u001b[43m.\u001b[49m\u001b[43mstorage_options\u001b[49m\u001b[43m,\u001b[49m\n\u001b[32m    258\u001b[39m \u001b[43m\u001b[49m\u001b[43m)\u001b[49m \u001b[38;5;28;01mas\u001b[39;00m handles:\n\u001b[32m    259\u001b[39m     \u001b[38;5;66;03m# Note: self.encoding is irrelevant here\u001b[39;00m\n\u001b[32m    260\u001b[39m     \u001b[38;5;28mself\u001b[39m.writer = csvlib.writer(\n\u001b[32m    261\u001b[39m         handles.handle,\n\u001b[32m    262\u001b[39m         lineterminator=\u001b[38;5;28mself\u001b[39m.lineterminator,\n\u001b[32m   (...)\u001b[39m\u001b[32m    267\u001b[39m         quotechar=\u001b[38;5;28mself\u001b[39m.quotechar,\n\u001b[32m    268\u001b[39m     )\n\u001b[32m    270\u001b[39m     \u001b[38;5;28mself\u001b[39m._save()\n",
      "\u001b[36mFile \u001b[39m\u001b[32m~/envs/finance/finance/lib/python3.13/site-packages/pandas/io/common.py:749\u001b[39m, in \u001b[36mget_handle\u001b[39m\u001b[34m(path_or_buf, mode, encoding, compression, memory_map, is_text, errors, storage_options)\u001b[39m\n\u001b[32m    747\u001b[39m \u001b[38;5;66;03m# Only for write methods\u001b[39;00m\n\u001b[32m    748\u001b[39m \u001b[38;5;28;01mif\u001b[39;00m \u001b[33m\"\u001b[39m\u001b[33mr\u001b[39m\u001b[33m\"\u001b[39m \u001b[38;5;129;01mnot\u001b[39;00m \u001b[38;5;129;01min\u001b[39;00m mode \u001b[38;5;129;01mand\u001b[39;00m is_path:\n\u001b[32m--> \u001b[39m\u001b[32m749\u001b[39m     \u001b[43mcheck_parent_directory\u001b[49m\u001b[43m(\u001b[49m\u001b[38;5;28;43mstr\u001b[39;49m\u001b[43m(\u001b[49m\u001b[43mhandle\u001b[49m\u001b[43m)\u001b[49m\u001b[43m)\u001b[49m\n\u001b[32m    751\u001b[39m \u001b[38;5;28;01mif\u001b[39;00m compression:\n\u001b[32m    752\u001b[39m     \u001b[38;5;28;01mif\u001b[39;00m compression != \u001b[33m\"\u001b[39m\u001b[33mzstd\u001b[39m\u001b[33m\"\u001b[39m:\n\u001b[32m    753\u001b[39m         \u001b[38;5;66;03m# compression libraries do not like an explicit text-mode\u001b[39;00m\n",
      "\u001b[36mFile \u001b[39m\u001b[32m~/envs/finance/finance/lib/python3.13/site-packages/pandas/io/common.py:616\u001b[39m, in \u001b[36mcheck_parent_directory\u001b[39m\u001b[34m(path)\u001b[39m\n\u001b[32m    614\u001b[39m parent = Path(path).parent\n\u001b[32m    615\u001b[39m \u001b[38;5;28;01mif\u001b[39;00m \u001b[38;5;129;01mnot\u001b[39;00m parent.is_dir():\n\u001b[32m--> \u001b[39m\u001b[32m616\u001b[39m     \u001b[38;5;28;01mraise\u001b[39;00m \u001b[38;5;167;01mOSError\u001b[39;00m(\u001b[33mrf\u001b[39m\u001b[33m\"\u001b[39m\u001b[33mCannot save file into a non-existent directory: \u001b[39m\u001b[33m'\u001b[39m\u001b[38;5;132;01m{\u001b[39;00mparent\u001b[38;5;132;01m}\u001b[39;00m\u001b[33m'\u001b[39m\u001b[33m\"\u001b[39m)\n",
      "\u001b[31mOSError\u001b[39m: Cannot save file into a non-existent directory: 'Results/2'"
     ]
    }
   ],
   "source": [
    "K2CompScore,K2SC=ScoreCombinations(scoreMatrix,2,divstrs)\n",
    "\n",
    "Score = pd.DataFrame({'Company':K2CompScore,'SC':K2SC})\n",
    "print(Score)\n",
    "filename = f\"Results/2/Score.csv\"\n",
    "Score.to_csv(filename,index=False)\n",
    "print(f\"Saved {filename}\")"
   ]
  },
  {
   "cell_type": "markdown",
   "id": "4f9a0bcc",
   "metadata": {},
   "source": [
    "Function to go through all of this."
   ]
  },
  {
   "cell_type": "code",
   "execution_count": 1,
   "id": "97cc214a",
   "metadata": {},
   "outputs": [],
   "source": [
    "def MultipleSC(scoreMatrix, weight,w_name,output_dir=\"Results\", k_min=2, k_max=5):\n",
    "    for K in range(k_min, k_max + 1):\n",
    "        compScore, SC = ScoreCombinations(scoreMatrix, K,weight)\n",
    "        Score = pd.DataFrame({'Company': compScore, 'SC': SC})\n",
    "\n",
    "        # Ensure directory exists\n",
    "        out_path = os.path.join(output_dir, w_name,str(K))\n",
    "        os.makedirs(out_path, exist_ok=True)\n",
    "\n",
    "        filename = os.path.join(out_path, \"Score.csv\")\n",
    "        Score.to_csv(filename, index=False)\n",
    "        print(f\"Saved {filename}\")\n",
    "\n",
    "\n",
    "def MultipleRC(rankMatrix, weight,w_name, output_dir=\"Results\", k_min=2, k_max=5):\n",
    "    for K in range(k_min, k_max + 1):\n",
    "        compRank, RC = RankCombinations(rankMatrix, K,weight)\n",
    "        Rank = pd.DataFrame({'Company': compRank, 'RC': RC})\n",
    "\n",
    "        # Ensure directory exists\n",
    "        out_path = os.path.join(output_dir, w_name,str(K))\n",
    "        os.makedirs(out_path, exist_ok=True)\n",
    "\n",
    "        filename = os.path.join(out_path, \"Rank.csv\")\n",
    "        Rank.to_csv(filename, index=False)\n",
    "        print(f\"Saved {filename}\")"
   ]
  },
  {
   "cell_type": "code",
   "execution_count": null,
   "id": "2b5eae8d",
   "metadata": {},
   "outputs": [
    {
     "name": "stdout",
     "output_type": "stream",
     "text": [
      "Saved Results/Divstrs/2/Score.csv\n",
      "Saved Results/Divstrs/3/Score.csv\n",
      "Saved Results/Divstrs/4/Score.csv\n",
      "Saved Results/Divstrs/5/Score.csv\n",
      "Saved Results/Divstrs/2/Rank.csv\n",
      "Saved Results/Divstrs/3/Rank.csv\n",
      "Saved Results/Divstrs/4/Rank.csv\n",
      "Saved Results/Divstrs/5/Rank.csv\n",
      "Saved Results/Performance/2/Score.csv\n",
      "Saved Results/Performance/3/Score.csv\n",
      "Saved Results/Performance/4/Score.csv\n",
      "Saved Results/Performance/5/Score.csv\n",
      "Saved Results/Performance/2/Rank.csv\n",
      "Saved Results/Performance/3/Rank.csv\n",
      "Saved Results/Performance/4/Rank.csv\n",
      "Saved Results/Performance/5/Rank.csv\n"
     ]
    }
   ],
   "source": [
    "MultipleSC(scoreMatrix,divstrs,\"Divstrs\")\n",
    "MultipleRC(rankMatrix,divstrs,\"Divstrs\")\n",
    "\n",
    "MultipleSC(scoreMatrix,perfstrs,\"Performance\")\n",
    "MultipleRC(rankMatrix,perfstrs,\"Performance\")\n",
    "\n",
    "#MultipleSC(scoreMatrix,)\n",
    "#MultipleRC(rankMatrix,)"
   ]
  },
  {
   "cell_type": "markdown",
   "id": "f877f39a",
   "metadata": {},
   "source": [
    "Which combination of indices is the best? This means they should have a high score to sharpe ratio. \n",
    "\n",
    "We have data to see exactly how each combo does with each stock, what we should do is take the average sharpe ratio of the top 15% of score/rank and develop charts in matplotlib.\n",
    "\n",
    "We can do charts for a specific stock down to charts for the whole s&p 500. \n",
    "\n",
    "For the whole 322 stocks, we choose top 15% of stocks based on score/rank, then map out the sharpe ratio average, similar to the graph we did earlier.\n",
    "\n",
    "\n"
   ]
  },
  {
   "cell_type": "code",
   "execution_count": null,
   "id": "7012b054",
   "metadata": {},
   "outputs": [],
   "source": [
    "def process_results(base_dir=\"Results/Divstrs\", sharpe_file=\"company_sharpe_ratios.csv\", k_min=1, k_max=5, summary_dir=\"Results/Summary\"):\n",
    "    os.makedirs(summary_dir, exist_ok=True)\n",
    "\n",
    "    # Load Sharpe ratios\n",
    "    sharpe_df = pd.read_csv(sharpe_file)\n",
    "    sharpe_df.columns = [\"Company\", \"Sharpe\"]\n",
    "    sharpe_map = dict(zip(sharpe_df[\"Company\"], sharpe_df[\"Sharpe\"]))\n",
    "    class FakeNP:\n",
    "        def float64(self, x):\n",
    "            return float(x)\n",
    "\n",
    "    safe_env = {\"np\": FakeNP()}\n",
    "    #safe_env = {\"np\": {\"float64\": float}}  # allow np.float64\n",
    "\n",
    "\n",
    "      \n",
    "    for K in range(k_min, k_max+1):\n",
    "        rank_file = os.path.join(base_dir, str(K), \"Rank.csv\")\n",
    "        if not os.path.exists(rank_file):\n",
    "            print(f\"Skipping {rank_file}, not found.\")\n",
    "            continue\n",
    "\n",
    "        # Load rank file\n",
    "        df = pd.read_csv(rank_file)\n",
    "        \n",
    "        # Expand RC column into rows\n",
    "        expanded = []\n",
    "        for _, row in df.iterrows():\n",
    "            company = row[\"Company\"]\n",
    "            combos = eval(row[\"RC\"], {\"__builtins__\": None}, safe_env)  # safe eval\n",
    "            for combo in combos:\n",
    "                expanded.append({\n",
    "                    \"Company\": company,\n",
    "                    \"Indicators\": tuple(sorted(combo[\"indices\"])),\n",
    "                    \"Rank\": float(combo[\"Rank\"])\n",
    "                })\n",
    "        expanded_df = pd.DataFrame(expanded)\n",
    "\n",
    "        results = []\n",
    "        for indicators, group in expanded_df.groupby(\"Indicators\"):\n",
    "            group_sorted = group.sort_values(\"Rank\", ascending=False)\n",
    "            top_n = max(1, int(len(group_sorted) * 0.15))  # top 15%\n",
    "            top_companies = group_sorted.head(top_n)[\"Company\"]\n",
    "\n",
    "            sharpe_vals = [sharpe_map[c] for c in top_companies if c in sharpe_map]\n",
    "            if sharpe_vals:\n",
    "                avg_sharpe = sum(sharpe_vals) / len(sharpe_vals)\n",
    "                results.append({\"Indicators\": indicators, \"AverageSharpe\": avg_sharpe})\n",
    "\n",
    "        results_df = pd.DataFrame(results).sort_values(\"AverageSharpe\", ascending=False)\n",
    "\n",
    "        # Save summary\n",
    "        summary_file = os.path.join(summary_dir, f\"K{K}_summary.csv\")\n",
    "        results_df.to_csv(summary_file, index=False)\n",
    "        print(f\"Saved {summary_file}\")\n",
    "\n",
    "        # Plot top 5 combinations\n",
    "        top5 = results_df.head(5)\n",
    "        plt.figure(figsize=(10, 6))\n",
    "        plt.bar(range(len(top5)), top5[\"AverageSharpe\"])\n",
    "        plt.xticks(range(len(top5)), [str(ind) for ind in top5[\"Indicators\"]], rotation=45, ha=\"right\")\n",
    "        plt.ylabel(\"Average Sharpe Ratio\")\n",
    "        plt.title(f\"Top 5 Indicator Combinations (K={K})\")\n",
    "        plt.tight_layout()\n",
    "        plot_file = os.path.join(summary_dir, f\"K{K}_top5.png\")\n",
    "        plt.savefig(plot_file)\n",
    "        plt.close()\n",
    "        print(f\"Saved {plot_file}\")"
   ]
  },
  {
   "cell_type": "code",
   "execution_count": 53,
   "id": "0a864e8b",
   "metadata": {},
   "outputs": [
    {
     "name": "stdout",
     "output_type": "stream",
     "text": [
      "Skipping Results/Divstrs/1/Rank.csv, not found.\n",
      "Saved Results/Summary/K2_summary.csv\n",
      "Saved Results/Summary/K2_top5.png\n",
      "Saved Results/Summary/K3_summary.csv\n",
      "Saved Results/Summary/K3_top5.png\n",
      "Saved Results/Summary/K4_summary.csv\n",
      "Saved Results/Summary/K4_top5.png\n",
      "Saved Results/Summary/K5_summary.csv\n",
      "Saved Results/Summary/K5_top5.png\n"
     ]
    }
   ],
   "source": [
    "process_results(base_dir=\"Results/Divstrs\",\n",
    "                sharpe_file=\"company_sharpe_ratios.csv\",\n",
    "                k_min=1, k_max=5,\n",
    "                summary_dir=\"Results/Summary\")"
   ]
  }
 ],
 "metadata": {
  "kernelspec": {
   "display_name": "finance",
   "language": "python",
   "name": "python3"
  },
  "language_info": {
   "codemirror_mode": {
    "name": "ipython",
    "version": 3
   },
   "file_extension": ".py",
   "mimetype": "text/x-python",
   "name": "python",
   "nbconvert_exporter": "python",
   "pygments_lexer": "ipython3",
   "version": "3.13.7"
  }
 },
 "nbformat": 4,
 "nbformat_minor": 5
}
