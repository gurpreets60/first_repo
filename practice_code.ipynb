{
 "cells": [
  {
   "cell_type": "code",
   "execution_count": 1,
   "id": "861f1b58-b3fe-4af2-a9d3-162d5d80120e",
   "metadata": {},
   "outputs": [
    {
     "name": "stdout",
     "output_type": "stream",
     "text": [
      "15.205295600000001\n",
      "15.205295600000001\n",
      "32.169881600000004\n"
     ]
    }
   ],
   "source": [
    "pi = 3.14159\n",
    "radius = 2.2\n",
    "# area of circle equation <- this is a comment\n",
    "area = pi*(radius**2)\n",
    "print(area)\n",
    "\n",
    "# change values of radius <- another comment\n",
    "# use comments to help others understand what you are doing in code\n",
    "radius = radius + 1\n",
    "print(area)     # area doesn't change\n",
    "area = pi*(radius**2)\n",
    "print(area)\n",
    "\n",
    "\n",
    "#############################\n",
    "#### COMMENTING LINES #######\n",
    "#############################\n",
    "# to comment MANY lines at a time, highlight all of them then CTRL+1\n",
    "# do CTRL+1 again to uncomment them\n",
    "# try it on the next few lines below!\n",
    "\n",
    "#area = pi*(radius**2)\n",
    "#print(area)\n",
    "#radius = radius + 1\n",
    "#area = pi*(radius**2)\n",
    "#print(area)\n",
    "\n",
    "#############################\n",
    "#### AUTOCOMPLETE #######\n",
    "#############################\n",
    "# Spyder can autocomplete names for you\n",
    "# start typing a variable name defined in your program and hit tab \n",
    "# before you finish typing -- try it below\n",
    "\n",
    "# define a variable\n",
    "a_very_long_variable_name_dont_name_them_this_long_pls = 0\n",
    "\n",
    "# below, start typing a_ve then hit tab... cool, right!\n",
    "# use autocomplete to change the value of that variable to 1\n",
    "\n",
    "# use autocomplete to write a line that prints the value of that long variable\n",
    "# notice that Spyder also automatically adds the closed parentheses for you!"
   ]
  },
  {
   "cell_type": "code",
   "execution_count": null,
   "id": "b3083bb2-e28d-4dd0-add4-1478093eb5a3",
   "metadata": {},
   "outputs": [],
   "source": []
  }
 ],
 "metadata": {
  "kernelspec": {
   "display_name": "Python [conda env:base] *",
   "language": "python",
   "name": "conda-base-py"
  },
  "language_info": {
   "codemirror_mode": {
    "name": "ipython",
    "version": 3
   },
   "file_extension": ".py",
   "mimetype": "text/x-python",
   "name": "python",
   "nbconvert_exporter": "python",
   "pygments_lexer": "ipython3",
   "version": "3.13.5"
  }
 },
 "nbformat": 4,
 "nbformat_minor": 5
}
