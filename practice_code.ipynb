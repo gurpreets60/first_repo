{
 "cells": [
  {
   "cell_type": "code",
   "execution_count": null,
   "id": "b3083bb2-e28d-4dd0-add4-1478093eb5a3",
   "metadata": {},
   "outputs": [],
   "source": [
    "# define constants and initial values\n",
    "pi = 3.14159\n",
    "radius = 2.2\n",
    "# area of circle equation\n",
    "area = pi*(radius**2)\n",
    "print(area)"
   ]
  },
  {
   "cell_type": "code",
   "execution_count": null,
   "id": "8cf93bcf-c55d-4f15-a307-ddfdd7283e05",
   "metadata": {},
   "outputs": [],
   "source": [
    "# change values of radius / variable reassignment and calculation order\n",
    "radius = radius + 1\n",
    "print(area)     # area doesn't change\n",
    "area = pi*(radius**2)\n",
    "print(area)"
   ]
  },
  {
   "cell_type": "code",
   "execution_count": null,
   "id": "1825a7db-3b35-4787-b043-4af1d2f484c5",
   "metadata": {},
   "outputs": [],
   "source": [
    "# calculate area again w current radius\n",
    "area = pi*(radius**2)\n",
    "print(area)\n",
    "radius = radius + 1 # increment radius once more\n",
    "area = pi*(radius**2)\n",
    "print(area)"
   ]
  },
  {
   "cell_type": "code",
   "execution_count": 2,
   "id": "c6257f38-5f4d-4556-8d2f-7d8a23053193",
   "metadata": {},
   "outputs": [
    {
     "name": "stdout",
     "output_type": "stream",
     "text": [
      "1\n"
     ]
    }
   ],
   "source": [
    "# define a variable\n",
    "a_very_long_variable_name_dont_name_them_this_long_pls = 0\n",
    "\n",
    "# update counter value\n",
    "a_very_long_variable_name_dont_name_them_this_long_pls = 1\n",
    "\n",
    "# print the value of the long variable\n",
    "print(a_very_long_variable_name_dont_name_them_this_long_pls)"
   ]
  },
  {
   "cell_type": "code",
   "execution_count": null,
   "id": "3998c1cb-ce82-4030-bf49-aceb63754b64",
   "metadata": {},
   "outputs": [],
   "source": []
  }
 ],
 "metadata": {
  "kernelspec": {
   "display_name": "Python [conda env:base] *",
   "language": "python",
   "name": "conda-base-py"
  },
  "language_info": {
   "codemirror_mode": {
    "name": "ipython",
    "version": 3
   },
   "file_extension": ".py",
   "mimetype": "text/x-python",
   "name": "python",
   "nbconvert_exporter": "python",
   "pygments_lexer": "ipython3",
   "version": "3.13.5"
  }
 },
 "nbformat": 4,
 "nbformat_minor": 5
}
